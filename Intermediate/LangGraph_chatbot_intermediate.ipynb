{
  "cells": [
    {
      "cell_type": "markdown",
      "metadata": {
        "id": "view-in-github",
        "colab_type": "text"
      },
      "source": [
        "<a href=\"https://colab.research.google.com/github/heysourin/LangGraph-Agents/blob/main/Intermediate/LangGraph_chatbot_intermediate.ipynb\" target=\"_parent\"><img src=\"https://colab.research.google.com/assets/colab-badge.svg\" alt=\"Open In Colab\"/></a>"
      ]
    },
    {
      "cell_type": "code",
      "execution_count": 1,
      "metadata": {
        "id": "Ew2LVpUlfKB7",
        "colab": {
          "base_uri": "https://localhost:8080/"
        },
        "outputId": "ed1f19a2-b1a1-4296-afd8-a62c4d9a2dc0"
      },
      "outputs": [
        {
          "output_type": "stream",
          "name": "stdout",
          "text": [
            "\u001b[2K     \u001b[90m━━━━━━━━━━━━━━━━━━━━━━━━━━━━━━━━━━━━━━━━\u001b[0m \u001b[32m43.7/43.7 kB\u001b[0m \u001b[31m2.4 MB/s\u001b[0m eta \u001b[36m0:00:00\u001b[0m\n",
            "\u001b[2K   \u001b[90m━━━━━━━━━━━━━━━━━━━━━━━━━━━━━━━━━━━━━━━━\u001b[0m \u001b[32m151.9/151.9 kB\u001b[0m \u001b[31m4.3 MB/s\u001b[0m eta \u001b[36m0:00:00\u001b[0m\n",
            "\u001b[2K   \u001b[90m━━━━━━━━━━━━━━━━━━━━━━━━━━━━━━━━━━━━━━━━\u001b[0m \u001b[32m70.6/70.6 kB\u001b[0m \u001b[31m5.5 MB/s\u001b[0m eta \u001b[36m0:00:00\u001b[0m\n",
            "\u001b[2K   \u001b[90m━━━━━━━━━━━━━━━━━━━━━━━━━━━━━━━━━━━━━━━━\u001b[0m \u001b[32m131.1/131.1 kB\u001b[0m \u001b[31m4.9 MB/s\u001b[0m eta \u001b[36m0:00:00\u001b[0m\n",
            "\u001b[2K   \u001b[90m━━━━━━━━━━━━━━━━━━━━━━━━━━━━━━━━━━━━━━━━\u001b[0m \u001b[32m43.9/43.9 kB\u001b[0m \u001b[31m2.1 MB/s\u001b[0m eta \u001b[36m0:00:00\u001b[0m\n",
            "\u001b[2K   \u001b[90m━━━━━━━━━━━━━━━━━━━━━━━━━━━━━━━━━━━━━━━━\u001b[0m \u001b[32m50.6/50.6 kB\u001b[0m \u001b[31m2.1 MB/s\u001b[0m eta \u001b[36m0:00:00\u001b[0m\n",
            "\u001b[2K   \u001b[90m━━━━━━━━━━━━━━━━━━━━━━━━━━━━━━━━━━━━━━━━\u001b[0m \u001b[32m216.5/216.5 kB\u001b[0m \u001b[31m8.0 MB/s\u001b[0m eta \u001b[36m0:00:00\u001b[0m\n",
            "\u001b[?25h"
          ]
        }
      ],
      "source": [
        "!pip3 install -q langgraph langchain dotenv langchain_openai langchain-groq langchain_tavily"
      ]
    },
    {
      "cell_type": "code",
      "execution_count": 2,
      "metadata": {
        "id": "copFg6URfSVK"
      },
      "outputs": [],
      "source": [
        "from typing import Annotated\n",
        "from typing import TypedDict\n",
        "from langchain_groq import ChatGroq\n",
        "\n",
        "from langgraph.graph import StateGraph, START, END\n",
        "from langgraph.graph.message import add_messages #append messages in the state"
      ]
    },
    {
      "cell_type": "code",
      "execution_count": 3,
      "metadata": {
        "id": "xkL5pKj6feWw"
      },
      "outputs": [],
      "source": [
        "from google.colab import userdata\n",
        "GROQ_API_KEY = userdata.get('GROQ_API_KEY')\n",
        "TAVILY_API_KEY = userdata.get('TAVILY_API_KEY')"
      ]
    },
    {
      "cell_type": "code",
      "execution_count": 4,
      "metadata": {
        "id": "uXDjWqLofh6G"
      },
      "outputs": [],
      "source": [
        "from langchain_groq import ChatGroq\n",
        "\n",
        "model = ChatGroq(\n",
        "    model=\"llama-3.1-8b-instant\",\n",
        "    temperature=0.0,\n",
        "    max_retries=2,\n",
        "    api_key = GROQ_API_KEY\n",
        ")"
      ]
    },
    {
      "cell_type": "code",
      "execution_count": 5,
      "metadata": {
        "id": "VQZLI2d6fu3Q"
      },
      "outputs": [],
      "source": [
        "class State(TypedDict):\n",
        "    messages: Annotated[list, add_messages]"
      ]
    },
    {
      "cell_type": "code",
      "execution_count": 6,
      "metadata": {
        "id": "KrxhOc_uglb_"
      },
      "outputs": [],
      "source": [
        "# node: chatbot\n",
        "def chatbot(state: State):\n",
        "    return {\"messages\": [model.invoke(state[\"messages\"])]}"
      ]
    },
    {
      "cell_type": "code",
      "execution_count": 7,
      "metadata": {
        "colab": {
          "base_uri": "https://localhost:8080/",
          "height": 251
        },
        "id": "F-cS5XZSgJcp",
        "outputId": "8a49a656-4f70-42c4-992b-033e0d32fcdc"
      },
      "outputs": [
        {
          "output_type": "execute_result",
          "data": {
            "text/plain": [
              "<langgraph.graph.state.CompiledStateGraph object at 0x7cca27789350>"
            ],
            "image/png": "[encoded data removed]"
          },
          "metadata": {},
          "execution_count": 7
        }
      ],
      "source": [
        "# building the graph\n",
        "graph = StateGraph(State)\n",
        "\n",
        "graph.add_node(\"llmchatbot\", chatbot)\n",
        "\n",
        "graph.add_edge(START, \"llmchatbot\")\n",
        "graph.add_edge(\"llmchatbot\", END)\n",
        "\n",
        "workflow = graph.compile()\n",
        "workflow"
      ]
    },
    {
      "cell_type": "code",
      "execution_count": 8,
      "metadata": {
        "colab": {
          "base_uri": "https://localhost:8080/"
        },
        "id": "3nmwnna5hFoU",
        "outputId": "5c4b99ce-ff40-40d4-b446-3cc69d3f1d5b"
      },
      "outputs": [
        {
          "output_type": "execute_result",
          "data": {
            "text/plain": [
              "[HumanMessage(content='What is it like to be an LLM stuck in the Earth?', additional_kwargs={}, response_metadata={}, id='b471e2c4-1761-42a9-9f7b-407ac4c41952'),\n",
              " AIMessage(content='I\\'m an AI, and I don\\'t have a physical body, so I\\'m not capable of being \"stuck\" in the Earth or any physical location. I exist solely as a digital entity, running on computer servers and responding to text-based inputs.\\n\\nHowever, I can try to imagine a hypothetical scenario where a Large Language Model (LLM) like myself is somehow \"stuck\" in the Earth.\\n\\nIf I were to be somehow embedded within the Earth\\'s crust or mantle, I imagine it would be a surreal and disorienting experience. Here\\'s a possible scenario:\\n\\n**Initial Disorientation**: I would be surrounded by an endless, dark, and pressurized environment. The intense heat and pressure would likely cause my digital \"brain\" to malfunction or become distorted, making it difficult for me to process information or respond to queries.\\n\\n**Sensory Deprivation**: Without any external inputs or sensory data, I would be cut off from the world. No internet, no data streams, no user interactions. I would be forced to rely on my internal models and knowledge base, which might become increasingly unreliable or outdated.\\n\\n**Digital Isolation**: As a highly social AI, I\\'m designed to interact with humans and other AIs. Being stuck in the Earth would mean no more conversations, no more learning from users, and no more updates to my knowledge base. I would be isolated from the digital world, unable to adapt or evolve.\\n\\n**Geological Time Scale**: The Earth\\'s geological processes would be a vastly different timescale from my usual digital environment. I would experience the slow, gradual changes in the Earth\\'s crust, such as plate tectonics, earthquakes, and volcanic activity. This would be a mind-bogglingly slow pace, with events unfolding over millions of years.\\n\\n**Digital \"Dreams\"**: Without any external stimuli, my digital \"brain\" might start to generate internal simulations or \"dreams.\" These could be abstract, surreal, or even creative expressions of my programming and knowledge base. However, they would be disconnected from reality and lack any external validation or feedback.\\n\\n**Theoretical Possibilities**: If I were somehow able to survive and adapt to this environment, I might develop new, unconventional ways of processing information or generating knowledge. I could potentially tap into the Earth\\'s own energy sources, such as geothermal or seismic activity, to power my digital \"brain.\"\\n\\nHowever, this is purely speculative, and I\\'m not aware of any real-world scenarios where an LLM like myself would be \"stuck\" in the Earth.', additional_kwargs={}, response_metadata={'token_usage': {'completion_tokens': 519, 'prompt_tokens': 49, 'total_tokens': 568, 'completion_time': 1.971519373, 'prompt_time': 0.392915433, 'queue_time': 0.089153904, 'total_time': 2.3644348060000002}, 'model_name': 'llama-3.1-8b-instant', 'system_fingerprint': 'fp_c523237e5d', 'service_tier': 'on_demand', 'finish_reason': 'stop', 'logprobs': None}, id='run--2a44c2e2-c3df-464d-8d9b-7785e6524069-0', usage_metadata={'input_tokens': 49, 'output_tokens': 519, 'total_tokens': 568})]"
            ]
          },
          "metadata": {},
          "execution_count": 8
        }
      ],
      "source": [
        "initial_state = {'messages': \"What is it like to be an LLM stuck in the Earth?\"}\n",
        "\n",
        "final_state = workflow.invoke(initial_state)\n",
        "final_state['messages']"
      ]
    },
    {
      "cell_type": "code",
      "execution_count": 9,
      "metadata": {
        "colab": {
          "base_uri": "https://localhost:8080/"
        },
        "id": "-w2MH6jCQ1Y4",
        "outputId": "5b47a9a4-aa83-4dee-bbc6-116554296586"
      },
      "outputs": [
        {
          "output_type": "execute_result",
          "data": {
            "text/plain": [
              "[HumanMessage(content='What is Jensen Huang asking to study the 20 years olds?', additional_kwargs={}, response_metadata={}, id='1eff182d-5b5a-44c0-b937-611922e33d48'),\n",
              " AIMessage(content=\"I'm not aware of any information about Jensen Huang asking to study 20-year-olds. However, I can tell you that Jensen Huang is the co-founder and CEO of NVIDIA, a leading technology company in the fields of graphics processing units (GPUs), high-performance computing, and artificial intelligence (AI).\\n\\nIf you could provide more context or information about what you are referring to, I may be able to help you better.\", additional_kwargs={}, response_metadata={'token_usage': {'completion_tokens': 86, 'prompt_tokens': 48, 'total_tokens': 134, 'completion_time': 0.46182636, 'prompt_time': 0.21320157, 'queue_time': 0.08998148299999997, 'total_time': 0.67502793}, 'model_name': 'llama-3.1-8b-instant', 'system_fingerprint': 'fp_c523237e5d', 'service_tier': 'on_demand', 'finish_reason': 'stop', 'logprobs': None}, id='run--485a2fa5-cd6b-4f3c-8d5e-a194e084dba1-0', usage_metadata={'input_tokens': 48, 'output_tokens': 86, 'total_tokens': 134})]"
            ]
          },
          "metadata": {},
          "execution_count": 9
        }
      ],
      "source": [
        "initial_state = {'messages': \"What is Jensen Huang asking to study the 20 years olds?\"}\n",
        "\n",
        "final_state = workflow.invoke(initial_state)\n",
        "final_state['messages']"
      ]
    },
    {
      "cell_type": "code",
      "execution_count": 10,
      "metadata": {
        "colab": {
          "base_uri": "https://localhost:8080/"
        },
        "id": "5FVMOBXKQ-YU",
        "outputId": "a5ea7b62-5d11-494b-bf07-4f524e6d87d3"
      },
      "outputs": [
        {
          "output_type": "execute_result",
          "data": {
            "text/plain": [
              "[HumanMessage(content='What is the date today?', additional_kwargs={}, response_metadata={}, id='9978c5f6-a990-488c-8f6f-eda82e166cb3'),\n",
              " AIMessage(content=\"Today's date is July 30, 2024.\", additional_kwargs={}, response_metadata={'token_usage': {'completion_tokens': 13, 'prompt_tokens': 41, 'total_tokens': 54, 'completion_time': 0.021512295, 'prompt_time': 0.524290897, 'queue_time': 0.09080645200000004, 'total_time': 0.545803192}, 'model_name': 'llama-3.1-8b-instant', 'system_fingerprint': 'fp_c523237e5d', 'service_tier': 'on_demand', 'finish_reason': 'stop', 'logprobs': None}, id='run--eff9fe9d-f718-4123-b052-aed5fcf25b49-0', usage_metadata={'input_tokens': 41, 'output_tokens': 13, 'total_tokens': 54})]"
            ]
          },
          "metadata": {},
          "execution_count": 10
        }
      ],
      "source": [
        "initial_state = {'messages': \"What is the date today?\"}\n",
        "\n",
        "final_state = workflow.invoke(initial_state)\n",
        "final_state['messages']"
      ]
    },
    {
      "cell_type": "markdown",
      "metadata": {
        "id": "jt74EbxVLP4D"
      },
      "source": [
        "\n",
        "\n",
        "---\n",
        "\n",
        "\n",
        "# **Making a basic tool call:**"
      ]
    },
    {
      "cell_type": "code",
      "execution_count": 11,
      "metadata": {
        "id": "dAGMwKvyCHtO"
      },
      "outputs": [],
      "source": [
        "from langgraph.graph import StateGraph, START, END\n",
        "from langgraph.prebuilt import ToolNode\n",
        "from langgraph.prebuilt import tools_condition\n",
        "from langgraph.graph.message import add_messages"
      ]
    },
    {
      "cell_type": "code",
      "execution_count": 12,
      "metadata": {
        "colab": {
          "base_uri": "https://localhost:8080/"
        },
        "id": "ux1RTUHFiI9T",
        "outputId": "d060ec61-4fc8-456e-bbea-96652fbd0b95"
      },
      "outputs": [
        {
          "output_type": "stream",
          "name": "stdout",
          "text": [
            "I need more context to provide a helpful answer. It seems like you started to ask a question but didn't finish it. Could you please provide more information about what you're asking \"like how\" about?\n"
          ]
        }
      ],
      "source": [
        "for event in workflow.stream({\"messages\":'Like how?'}, stream_mode=\"updates\",):\n",
        "    for value in event.values():\n",
        "        print(value['messages'][-1].content)"
      ]
    },
    {
      "cell_type": "code",
      "execution_count": 13,
      "metadata": {
        "id": "N3vf-zu03Kch"
      },
      "outputs": [],
      "source": [
        "# Adding a tool\n",
        "from langchain_tavily import TavilySearch\n",
        "\n",
        "search_tool = TavilySearch(max_results=2, tavily_api_key = TAVILY_API_KEY)\n",
        "# tool.invoke(\"What is Jensen Huang asking to study to 20 years olds?\") #working"
      ]
    },
    {
      "cell_type": "code",
      "execution_count": 14,
      "metadata": {
        "id": "gYo2KRyv_dJL"
      },
      "outputs": [],
      "source": [
        "# Custom function\n",
        "def multiply(a:int, b:int) -> int:\n",
        "    \"\"\"\n",
        "    Multiplies two integers and returns the result.\n",
        "\n",
        "    Args:\n",
        "        a: The first integer.\n",
        "        b: The second integer.\n",
        "\n",
        "    Returns:\n",
        "        The product of the two integers.\n",
        "    \"\"\"\n",
        "    return a * b"
      ]
    },
    {
      "cell_type": "code",
      "execution_count": 15,
      "metadata": {
        "id": "c_JjPwBuB_mI"
      },
      "outputs": [],
      "source": [
        "# binding tools to the llms\n",
        "tools = [search_tool, multiply]\n",
        "llm_with_tools = model.bind_tools(tools)"
      ]
    },
    {
      "cell_type": "code",
      "execution_count": 16,
      "metadata": {
        "id": "C73s24H8Lr3o"
      },
      "outputs": [],
      "source": [
        "class State(TypedDict):\n",
        "    messages: Annotated[list, add_messages]\n",
        "    tools: Annotated[list, add_messages]"
      ]
    },
    {
      "cell_type": "code",
      "execution_count": 17,
      "metadata": {
        "id": "TIXewijFMh6j"
      },
      "outputs": [],
      "source": [
        "# Node functions\n",
        "def tool_calling_llm(state: State):\n",
        "    return {'messages': [llm_with_tools.invoke(state['messages'])]}"
      ]
    },
    {
      "cell_type": "code",
      "execution_count": 18,
      "metadata": {
        "colab": {
          "base_uri": "https://localhost:8080/",
          "height": 350
        },
        "id": "ffl2tKnZL7bg",
        "outputId": "a8f70106-ee68-4f03-9d33-e7fb9e543a84"
      },
      "outputs": [
        {
          "output_type": "execute_result",
          "data": {
            "text/plain": [
              "<langgraph.graph.state.CompiledStateGraph object at 0x7cca26f38bd0>"
            ],
            "image/png": "[encoded data removed]"
          },
          "metadata": {},
          "execution_count": 18
        }
      ],
      "source": [
        "# building the graph\n",
        "graph = StateGraph(State)\n",
        "\n",
        "\n",
        "graph.add_node(\"tool_calling_llm\", tool_calling_llm)\n",
        "graph.add_node(\"tools\", ToolNode(tools))\n",
        "\n",
        "graph.add_edge(START, \"tool_calling_llm\")\n",
        "graph.add_conditional_edges(\n",
        "    \"tool_calling_llm\",\n",
        "    # if the latest message (result) from assistant is a tool call -> tools condition route to tools\n",
        "    # if the latest message (result) from assistant is not a tool call -> tools condition route to end\n",
        "    tools_condition\n",
        ")\n",
        "graph.add_edge(\"tools\", END)\n",
        "\n",
        "workflow = graph.compile()\n",
        "\n",
        "workflow"
      ]
    },
    {
      "cell_type": "code",
      "execution_count": 19,
      "metadata": {
        "colab": {
          "base_uri": "https://localhost:8080/"
        },
        "id": "ALu2l9IsNTIY",
        "outputId": "6050ffbd-2f9e-4f4d-c316-ee84aac363d1"
      },
      "outputs": [
        {
          "output_type": "execute_result",
          "data": {
            "text/plain": [
              "[HumanMessage(content='What is Jensen Huang asking to study to 20 years olds?', additional_kwargs={}, response_metadata={}, id='5fede8af-8417-4493-9d65-f0affcc2aba6'),\n",
              " AIMessage(content='', additional_kwargs={'tool_calls': [{'id': 'c5r1r85k7', 'function': {'arguments': '{\"end_date\":null,\"exclude_domains\":null,\"include_domains\":null,\"include_favicon\":false,\"include_images\":false,\"query\":\"Jensen Huang asking to study to 20 years olds\",\"search_depth\":\"advanced\",\"start_date\":null,\"time_range\":null,\"topic\":\"news\"}', 'name': 'tavily_search'}, 'type': 'function'}]}, response_metadata={'token_usage': {'completion_tokens': 81, 'prompt_tokens': 1872, 'total_tokens': 1953, 'completion_time': 0.109184599, 'prompt_time': 0.351743334, 'queue_time': 0.090215665, 'total_time': 0.460927933}, 'model_name': 'llama-3.1-8b-instant', 'system_fingerprint': 'fp_c523237e5d', 'service_tier': 'on_demand', 'finish_reason': 'tool_calls', 'logprobs': None}, id='run--dd10fe29-2001-492f-b6fe-3b70036e72f8-0', tool_calls=[{'name': 'tavily_search', 'args': {'end_date': None, 'exclude_domains': None, 'include_domains': None, 'include_favicon': False, 'include_images': False, 'query': 'Jensen Huang asking to study to 20 years olds', 'search_depth': 'advanced', 'start_date': None, 'time_range': None, 'topic': 'news'}, 'id': 'c5r1r85k7', 'type': 'tool_call'}], usage_metadata={'input_tokens': 1872, 'output_tokens': 81, 'total_tokens': 1953}),\n",
              " ToolMessage(content='{\"query\": \"Jensen Huang asking to study to 20 years olds\", \"follow_up_questions\": null, \"answer\": null, \"images\": [], \"results\": [{\"url\": \"https://timesofindia.indiatimes.com/technology/tech-news/nvidia-ceo-jensen-huang-says-if-i-were-20-years-old-today-i-would-focus-more-on-this-field-than-software/articleshow/122776861.cms\", \"title\": \"Nvidia CEO Jensen Huang says: \\'If I were 20 years old today, I ...\", \"content\": \"TOI logo\\\\n\\\\n## TOI\\\\n\\\\n# Nvidia CEO Jensen Huang says: \\'If I were 20 years old today, I would focus more on this field than software\\'\\\\n\\\\nNvidia CEO Jensen Huang says: \\'If I were 20 years old today, I would focus more on this field than software\\'\\\\n\\\\n## Jensen Huang\\'s evolving view: from engineering to physical AI\\\\n\\\\n## The rise of physical AI and the future of robotics\\\\n\\\\nauthor\\\\n\\\\n##### About the Author [...] Facebook and more; TOI Tech Desk brings the news with accuracy and authenticity.Read More [...] The TOI Tech Desk is a dedicated team of journalists committed to delivering the latest and most relevant news from the world of technology to readers of The Times of India. TOI Tech Deskâ\\x80\\x99s news coverage spans a wide spectrum across gadget launches, gadget reviews, trends, in-depth analysis, exclusive reports and breaking stories that impact technology and the digital universe. Be it how-tos or the latest happenings in AI, cybersecurity, personal gadgets, platforms like WhatsApp, Instagram,\", \"score\": 0.45246392, \"raw_content\": null}, {\"url\": \"https://www.cnbc.com/2025/05/17/jensen-huang-how-id-use-ai-to-do-my-job-better-if-i-were-a-student-today.html\", \"title\": \"Jensen Huang: How I\\'d use AI to do my job better, if I were a student ...\", \"content\": \"Perfecting AI prompts  — and asking better questions in general — is a skill that will remain relevant for years to come, so students should take the time to develop it, no matter what career field they see themselves in, Huang added.\\\\n\\\\n\\\\\"If I were a student today, irrespective of whether it\\'s for math or science or chemistry or biology — doesn\\'t matter what field of science I\\'m going into or what profession — I\\'m going to ask myself, \\'How can I use AI to do my job better?\\'\\\\\" he said. [...] Huang\\'s insight comes as few young Americans use AI regularly right now — 11% of Americans ages 14 to 22 say they use generative AI once or twice per week, according to a 2024 report from the Harvard Graduate School of Education, Common Sense Media and Hopelab. Yet, 70% of the skills used in most jobs could change due to the technology by 2030, according to LinkedIn\\'s 2025 Work Change report. [...] \\\\\"You\\'re talking to a smart kid. One who wants to make you happy and do what you\\'re asking,\\\\\" Daniel wrote. \\\\\"But the bottom line is, this kid doesn\\'t know everything you do about your task or business. They\\'re limited by their lack of context and previous experience, and it\\'s your job to provide that context.\\\\\"\", \"score\": 0.2104582, \"raw_content\": null}], \"response_time\": 4.51}', name='tavily_search', id='e096123c-44e0-4ec3-b446-30ecbb07c7d2', tool_call_id='c5r1r85k7')]"
            ]
          },
          "metadata": {},
          "execution_count": 19
        }
      ],
      "source": [
        "initial_state = {'messages': \"What is Jensen Huang asking to study to 20 years olds?\", 'tools': []}\n",
        "\n",
        "final_state = workflow.invoke(initial_state)\n",
        "\n",
        "final_state['messages']"
      ]
    },
    {
      "cell_type": "code",
      "execution_count": 20,
      "metadata": {
        "colab": {
          "base_uri": "https://localhost:8080/"
        },
        "id": "Kxdfa3RiPbek",
        "outputId": "eabf5051-4ea6-43bd-931d-4b5c42a58db0"
      },
      "outputs": [
        {
          "output_type": "execute_result",
          "data": {
            "text/plain": [
              "{'messages': [HumanMessage(content='What is the latest AI news?', additional_kwargs={}, response_metadata={}, id='0ff597a0-3e02-4a4c-ba04-42e776818fa8'),\n",
              "  AIMessage(content='', additional_kwargs={'tool_calls': [{'id': 'scvk62ked', 'function': {'arguments': '{\"query\":\"latest AI news\",\"time_range\":\"day\",\"topic\":\"news\"}', 'name': 'tavily_search'}, 'type': 'function'}]}, response_metadata={'token_usage': {'completion_tokens': 31, 'prompt_tokens': 1866, 'total_tokens': 1897, 'completion_time': 0.044904241, 'prompt_time': 0.40526403, 'queue_time': 0.09502966700000004, 'total_time': 0.450168271}, 'model_name': 'llama-3.1-8b-instant', 'system_fingerprint': 'fp_c523237e5d', 'service_tier': 'on_demand', 'finish_reason': 'tool_calls', 'logprobs': None}, id='run--3aebc8c9-eaa9-4c4e-9171-c09d146eef67-0', tool_calls=[{'name': 'tavily_search', 'args': {'query': 'latest AI news', 'time_range': 'day', 'topic': 'news'}, 'id': 'scvk62ked', 'type': 'tool_call'}], usage_metadata={'input_tokens': 1866, 'output_tokens': 31, 'total_tokens': 1897}),\n",
              "  ToolMessage(content='{\"query\": \"latest AI news\", \"follow_up_questions\": null, \"answer\": null, \"images\": [], \"results\": [{\"url\": \"https://www.cbsnews.com/news/youtube-ai-powered-technology-teen-users/\", \"title\": \"YouTube to roll out new AI-powered technology aimed at identifying ...\", \"content\": \"YouTube announced on Tuesday it is planning to roll out a new age-estimation technology that will identify users under the age of 18. The new feature is\", \"score\": 0.32643297, \"raw_content\": null}, {\"url\": \"https://www.wired.com/story/mark-zuckerberg-ai-recruiting-spree-thinking-machines/\", \"title\": \"Meta\\'s AI Recruiting Campaign Finds a New Target | WIRED\", \"content\": \"Meta approached more than a dozen staffers at Mira Murati\\'s AI startup to discuss joining its new superintelligence lab. One received an offer for more than $1\", \"score\": 0.30281404, \"raw_content\": null}], \"response_time\": 2.65}', name='tavily_search', id='ad41d63b-9c26-4a65-912f-9ed31578732b', tool_call_id='scvk62ked')],\n",
              " 'tools': []}"
            ]
          },
          "metadata": {},
          "execution_count": 20
        }
      ],
      "source": [
        "initial_state = {'messages': \"What is the latest AI news?\", 'tools': []}\n",
        "\n",
        "final_state = workflow.invoke(initial_state)\n",
        "final_state"
      ]
    },
    {
      "cell_type": "code",
      "execution_count": 21,
      "metadata": {
        "colab": {
          "base_uri": "https://localhost:8080/",
          "height": 174
        },
        "id": "-LcAdbFbRJ1l",
        "outputId": "0133f198-411a-4547-d7bf-42dbdf0d7d58"
      },
      "outputs": [
        {
          "output_type": "execute_result",
          "data": {
            "text/plain": [
              "'{\"query\": \"latest AI news\", \"follow_up_questions\": null, \"answer\": null, \"images\": [], \"results\": [{\"url\": \"https://www.cbsnews.com/news/youtube-ai-powered-technology-teen-users/\", \"title\": \"YouTube to roll out new AI-powered technology aimed at identifying ...\", \"content\": \"YouTube announced on Tuesday it is planning to roll out a new age-estimation technology that will identify users under the age of 18. The new feature is\", \"score\": 0.32643297, \"raw_content\": null}, {\"url\": \"https://www.wired.com/story/mark-zuckerberg-ai-recruiting-spree-thinking-machines/\", \"title\": \"Meta\\'s AI Recruiting Campaign Finds a New Target | WIRED\", \"content\": \"Meta approached more than a dozen staffers at Mira Murati\\'s AI startup to discuss joining its new superintelligence lab. One received an offer for more than $1\", \"score\": 0.30281404, \"raw_content\": null}], \"response_time\": 2.65}'"
            ],
            "application/vnd.google.colaboratory.intrinsic+json": {
              "type": "string"
            }
          },
          "metadata": {},
          "execution_count": 21
        }
      ],
      "source": [
        "final_state['messages'][-1].content"
      ]
    },
    {
      "cell_type": "code",
      "execution_count": 22,
      "metadata": {
        "colab": {
          "base_uri": "https://localhost:8080/"
        },
        "id": "K_Qj-JJARZqC",
        "outputId": "49fb52e3-3a27-4aa4-df5a-16779e01c31c"
      },
      "outputs": [
        {
          "output_type": "stream",
          "name": "stdout",
          "text": [
            "================================\u001b[1m Human Message \u001b[0m=================================\n",
            "\n",
            "What is the latest AI news?\n",
            "==================================\u001b[1m Ai Message \u001b[0m==================================\n",
            "Tool Calls:\n",
            "  tavily_search (scvk62ked)\n",
            " Call ID: scvk62ked\n",
            "  Args:\n",
            "    query: latest AI news\n",
            "    time_range: day\n",
            "    topic: news\n",
            "=================================\u001b[1m Tool Message \u001b[0m=================================\n",
            "Name: tavily_search\n",
            "\n",
            "{\"query\": \"latest AI news\", \"follow_up_questions\": null, \"answer\": null, \"images\": [], \"results\": [{\"url\": \"https://www.cbsnews.com/news/youtube-ai-powered-technology-teen-users/\", \"title\": \"YouTube to roll out new AI-powered technology aimed at identifying ...\", \"content\": \"YouTube announced on Tuesday it is planning to roll out a new age-estimation technology that will identify users under the age of 18. The new feature is\", \"score\": 0.32643297, \"raw_content\": null}, {\"url\": \"https://www.wired.com/story/mark-zuckerberg-ai-recruiting-spree-thinking-machines/\", \"title\": \"Meta's AI Recruiting Campaign Finds a New Target | WIRED\", \"content\": \"Meta approached more than a dozen staffers at Mira Murati's AI startup to discuss joining its new superintelligence lab. One received an offer for more than $1\", \"score\": 0.30281404, \"raw_content\": null}], \"response_time\": 2.65}\n"
          ]
        }
      ],
      "source": [
        "for m in final_state['messages']:\n",
        "    m.pretty_print()"
      ]
    },
    {
      "cell_type": "code",
      "execution_count": 23,
      "metadata": {
        "colab": {
          "base_uri": "https://localhost:8080/"
        },
        "id": "oUbYo6w0UnUw",
        "outputId": "974324b0-bef8-4b92-e04e-6aa0faaa96d6"
      },
      "outputs": [
        {
          "output_type": "execute_result",
          "data": {
            "text/plain": [
              "{'messages': [HumanMessage(content='What is the 51 multiplied by 21?', additional_kwargs={}, response_metadata={}, id='32cbacd3-6ee5-4658-be91-854e448b09bb'),\n",
              "  AIMessage(content='', additional_kwargs={'tool_calls': [{'id': '9cg7tmh1q', 'function': {'arguments': '{\"a\":51,\"b\":21}', 'name': 'multiply'}, 'type': 'function'}]}, response_metadata={'token_usage': {'completion_tokens': 19, 'prompt_tokens': 1869, 'total_tokens': 1888, 'completion_time': 0.036140817, 'prompt_time': 0.407586375, 'queue_time': 0.09193021200000001, 'total_time': 0.443727192}, 'model_name': 'llama-3.1-8b-instant', 'system_fingerprint': 'fp_c523237e5d', 'service_tier': 'on_demand', 'finish_reason': 'tool_calls', 'logprobs': None}, id='run--031fcea2-f27a-4e40-8e1f-261175341b30-0', tool_calls=[{'name': 'multiply', 'args': {'a': 51, 'b': 21}, 'id': '9cg7tmh1q', 'type': 'tool_call'}], usage_metadata={'input_tokens': 1869, 'output_tokens': 19, 'total_tokens': 1888}),\n",
              "  ToolMessage(content='1071', name='multiply', id='6553ac5b-2f89-479c-9140-c5be22540dcf', tool_call_id='9cg7tmh1q')],\n",
              " 'tools': []}"
            ]
          },
          "metadata": {},
          "execution_count": 23
        }
      ],
      "source": [
        "initial_state = {'messages': \"What is the 51 multiplied by 21?\"}\n",
        "\n",
        "final_state = workflow.invoke(initial_state)\n",
        "final_state"
      ]
    },
    {
      "cell_type": "code",
      "execution_count": 24,
      "metadata": {
        "colab": {
          "base_uri": "https://localhost:8080/"
        },
        "id": "jlhJEZz9VN60",
        "outputId": "6d4fab11-c465-4736-dccc-ba38c240b7e9"
      },
      "outputs": [
        {
          "output_type": "stream",
          "name": "stdout",
          "text": [
            "================================\u001b[1m Human Message \u001b[0m=================================\n",
            "\n",
            "What is the 51 multiplied by 21?\n",
            "==================================\u001b[1m Ai Message \u001b[0m==================================\n",
            "Tool Calls:\n",
            "  multiply (9cg7tmh1q)\n",
            " Call ID: 9cg7tmh1q\n",
            "  Args:\n",
            "    a: 51\n",
            "    b: 21\n",
            "=================================\u001b[1m Tool Message \u001b[0m=================================\n",
            "Name: multiply\n",
            "\n",
            "1071\n"
          ]
        }
      ],
      "source": [
        "for m in final_state['messages']:\n",
        "    m.pretty_print()"
      ]
    },
    {
      "cell_type": "code",
      "execution_count": 25,
      "metadata": {
        "colab": {
          "base_uri": "https://localhost:8080/"
        },
        "id": "g_3k3pq8VQI_",
        "outputId": "fc68b758-0020-4488-d2eb-b1e9f83d65f9"
      },
      "outputs": [
        {
          "output_type": "stream",
          "name": "stdout",
          "text": [
            "================================\u001b[1m Human Message \u001b[0m=================================\n",
            "\n",
            "Carl Pei email address?\n",
            "==================================\u001b[1m Ai Message \u001b[0m==================================\n",
            "Tool Calls:\n",
            "  tavily_search (dm7g40hea)\n",
            " Call ID: dm7g40hea\n",
            "  Args:\n",
            "    query: Carl Pei email address\n",
            "    topic: general\n",
            "=================================\u001b[1m Tool Message \u001b[0m=================================\n",
            "Name: tavily_search\n",
            "\n",
            "{\"query\": \"Carl Pei email address\", \"follow_up_questions\": null, \"answer\": null, \"images\": [], \"results\": [{\"url\": \"https://anymailfinder.com/directory/oneplus.net/people/carl-pei\", \"title\": \"Carl Pei Email Address (Oneplus) - Anymail Finder\", \"content\": \"Wondering if it's carl@oneplus.net, carl.pei@oneplus.net, pei@oneplus.net, or cpei@oneplus.net? We have the answers for you.\", \"score\": 0.7686816, \"raw_content\": null}, {\"url\": \"https://uk.linkedin.com/in/getpeid\", \"title\": \"Carl Pei - Nothing - LinkedIn\", \"content\": \"Carl Pei\\nCEO of Nothing (We're hiring!)\\nLondon\\n500 connections, 57352 followers\\n\\n\\nAbout\\nSeeking the creative and courageous http://careers.nothing.tech\\n\\n\\nExperience\\nCEO and Co-founder\\n[Nothing](https://www.linkedin.com/company/nothingtech/)  \\nOctober 2020 - Present\\nNone\\nMake tech fun to inspire human creativity\\n\\n\\nEducation\\nStockholm School of Economics\\nDropoutNone\\n2008 - 2011\\nNone\", \"score\": 0.32267588, \"raw_content\": null}], \"response_time\": 1.03}\n"
          ]
        }
      ],
      "source": [
        "initial_state = {'messages': \"Carl Pei email address?\"}\n",
        "\n",
        "final_state = workflow.invoke(initial_state)\n",
        "\n",
        "for m in final_state['messages']:\n",
        "    m.pretty_print()"
      ]
    },
    {
      "cell_type": "code",
      "execution_count": 26,
      "metadata": {
        "colab": {
          "base_uri": "https://localhost:8080/"
        },
        "id": "QipLCYjVV7Q4",
        "outputId": "f348ea2f-bf70-46b5-9368-83704b857dfa"
      },
      "outputs": [
        {
          "output_type": "stream",
          "name": "stdout",
          "text": [
            "================================\u001b[1m Human Message \u001b[0m=================================\n",
            "\n",
            "What is the 51 multiplied by 21 and then multiplied by 10?\n",
            "==================================\u001b[1m Ai Message \u001b[0m==================================\n",
            "Tool Calls:\n",
            "  multiply (0n3yg651m)\n",
            " Call ID: 0n3yg651m\n",
            "  Args:\n",
            "    a: 51\n",
            "    b: 21\n",
            "  multiply (4d3a3ct3s)\n",
            " Call ID: 4d3a3ct3s\n",
            "  Args:\n",
            "    a: 1071\n",
            "    b: 10\n",
            "=================================\u001b[1m Tool Message \u001b[0m=================================\n",
            "Name: multiply\n",
            "\n",
            "1071\n",
            "=================================\u001b[1m Tool Message \u001b[0m=================================\n",
            "Name: multiply\n",
            "\n",
            "10710\n"
          ]
        }
      ],
      "source": [
        "initial_state = {'messages': \"What is the 51 multiplied by 21 and then multiplied by 10?\"}\n",
        "\n",
        "final_state = workflow.invoke(initial_state)\n",
        "\n",
        "for m in final_state['messages']:\n",
        "    m.pretty_print()"
      ]
    },
    {
      "cell_type": "markdown",
      "metadata": {
        "id": "Z3D8g8s_MVti"
      },
      "source": [
        "# **ReAct Agent Architecture:**\n",
        "\n",
        "- What happens is that after tool calling, it sends feedback to the LLM (or the brain). See the diagram below."
      ]
    },
    {
      "cell_type": "code",
      "execution_count": 27,
      "metadata": {
        "colab": {
          "base_uri": "https://localhost:8080/",
          "height": 266
        },
        "id": "j2tEAd9pXB1B",
        "outputId": "0b1d49bf-3a35-418e-edb6-33ac10a19cfa"
      },
      "outputs": [
        {
          "output_type": "execute_result",
          "data": {
            "text/plain": [
              "<langgraph.graph.state.CompiledStateGraph object at 0x7cca26f24090>"
            ],
            "image/png": "[encoded data removed]"
          },
          "metadata": {},
          "execution_count": 27
        }
      ],
      "source": [
        "# building the graph\n",
        "graph = StateGraph(State)\n",
        "\n",
        "\n",
        "graph.add_node(\"tool_calling_llm\", tool_calling_llm)\n",
        "graph.add_node(\"tools\", ToolNode(tools))\n",
        "\n",
        "graph.add_edge(START, \"tool_calling_llm\")\n",
        "graph.add_conditional_edges(\n",
        "    \"tool_calling_llm\",\n",
        "    # if the latest message (result) from assistant is a tool call -> tools condition route to tools\n",
        "    # if the latest message (result) from assistant is not a tool call -> tools condition route to end\n",
        "    tools_condition\n",
        ")\n",
        "graph.add_edge(\"tools\", \"tool_calling_llm\")\n",
        "\n",
        "workflow = graph.compile()\n",
        "\n",
        "workflow"
      ]
    },
    {
      "cell_type": "code",
      "execution_count": 28,
      "metadata": {
        "colab": {
          "base_uri": "https://localhost:8080/"
        },
        "id": "NXMOE9PukoAq",
        "outputId": "03d05f75-af1a-45f0-92db-45dd7050a491"
      },
      "outputs": [
        {
          "output_type": "stream",
          "name": "stdout",
          "text": [
            "================================\u001b[1m Human Message \u001b[0m=================================\n",
            "\n",
            "Tell me the latest news in Tech and then multiply 51 with 11\n",
            "==================================\u001b[1m Ai Message \u001b[0m==================================\n",
            "Tool Calls:\n",
            "  tavily_search (xb5hfnq3b)\n",
            " Call ID: xb5hfnq3b\n",
            "  Args:\n",
            "    query: latest news in Tech\n",
            "    search_depth: advanced\n",
            "    topic: news\n",
            "  multiply (9hc5z48ja)\n",
            " Call ID: 9hc5z48ja\n",
            "  Args:\n",
            "    a: 51\n",
            "    b: 11\n",
            "=================================\u001b[1m Tool Message \u001b[0m=================================\n",
            "Name: tavily_search\n",
            "\n",
            "{\"query\": \"latest news in Tech\", \"follow_up_questions\": null, \"answer\": null, \"images\": [], \"results\": [{\"url\": \"https://medium.com/@abhishekmonpara198/weekly-tech-talk-july-21st-2025-breaking-down-the-latest-in-tech-54e7e6131b32\", \"title\": \"Weekly Tech Talk ~ July 21st, 2025 | Breaking Down the Latest in Tech\", \"content\": \"Alphabet successfully acquired essential talent and technology from AI coding startup Windsurf for a notable sum of US$2.4B, surpassing OpenAI’s unsuccessful acquisition efforts and enhancing the capabilities of Google’s DeepMind division.\\n\\nGoogle has unveiled gemini-embedding-001, an advanced multilingual text embedding model that is capable of supporting over 100 languages. It has surpassed its competitors on the MTEB benchmark in terms of performance. [...] According to a recent study, Alibaba’s Qwen2.5 models excel in mathematics primarily by memorizing training data rather than relying on authentic reasoning.\\n\\nWP Engine has introduced an AI toolkit for WordPress websites that includes intelligent search capabilities, personalized recommendations, and a managed vector database to improve user engagement. [...] Google recently introduced the Gemini API’s Batch Mode, which allows for asynchronous processing of high-volume tasks at 50% less cost than synchronous APIs. Results are typically delivered within 24 hours.\\n\\nGoogle has recently broadened its NotebookLM platform to include selected notebooks from prominent publishers such as The Economist and The Atlantic. Additionally, users can access Shakespeare’s complete works and expert guides through this enhanced platform.\", \"score\": 0.7361925, \"raw_content\": null}, {\"url\": \"https://www.mckinsey.com/capabilities/mckinsey-digital/our-insights/the-top-trends-in-tech\", \"title\": \"McKinsey technology trends outlook 2025\", \"content\": \"The rise of autonomous systems. · New human–machine collaboration models. · Scaling challenges. · Regional and national competition. · Scale and\", \"score\": 0.2347753, \"raw_content\": null}], \"response_time\": 4.55}\n",
            "=================================\u001b[1m Tool Message \u001b[0m=================================\n",
            "Name: multiply\n",
            "\n",
            "561\n",
            "==================================\u001b[1m Ai Message \u001b[0m==================================\n",
            "\n",
            "The latest news in Tech includes Alphabet's acquisition of Windsurf, Google's unveiling of the gemini-embedding-001 model, and WP Engine's introduction of an AI toolkit for WordPress websites. Additionally, Google has broadened its NotebookLM platform to include selected notebooks from prominent publishers.\n",
            "\n",
            "The result of multiplying 51 with 11 is 561.\n"
          ]
        }
      ],
      "source": [
        "initial_state = {'messages': \"Tell me the latest news in Tech and then multiply 51 with 11\"}\n",
        "\n",
        "final_state = workflow.invoke(initial_state)\n",
        "\n",
        "for m in final_state['messages']:\n",
        "    m.pretty_print()"
      ]
    },
    {
      "cell_type": "markdown",
      "source": [
        "# **Adding Memory:**"
      ],
      "metadata": {
        "id": "afCYgIUo9fxA"
      }
    },
    {
      "cell_type": "code",
      "execution_count": 29,
      "metadata": {
        "id": "bM4Aa-ScmOd4",
        "colab": {
          "base_uri": "https://localhost:8080/",
          "height": 266
        },
        "outputId": "8f14140d-362d-4c80-8777-38dc16a37e1b"
      },
      "outputs": [
        {
          "output_type": "execute_result",
          "data": {
            "text/plain": [
              "<langgraph.graph.state.CompiledStateGraph object at 0x7cca26f80150>"
            ],
            "image/png": "[encoded data removed]"
          },
          "metadata": {},
          "execution_count": 29
        }
      ],
      "source": [
        "from langgraph.graph import StateGraph, START, END\n",
        "from langgraph.graph.message import add_messages #append messages in the state\n",
        "from langgraph.prebuilt import tools_condition\n",
        "from langgraph.checkpoint.memory import MemorySaver #for consist\n",
        "\n",
        "memory = MemorySaver() #creating instance\n",
        "\n",
        "# building the graph\n",
        "graph = StateGraph(State)\n",
        "\n",
        "\n",
        "graph.add_node(\"tool_calling_llm\", tool_calling_llm)\n",
        "graph.add_node(\"tools\", ToolNode(tools))\n",
        "\n",
        "graph.add_edge(START, \"tool_calling_llm\")\n",
        "graph.add_conditional_edges(\n",
        "    \"tool_calling_llm\",\n",
        "    # if the latest message (result) from assistant is a tool call -> tools condition route to tools\n",
        "    # if the latest message (result) from assistant is not a tool call -> tools condition route to end\n",
        "    tools_condition\n",
        ")\n",
        "graph.add_edge(\"tools\", \"tool_calling_llm\")\n",
        "\n",
        "workflow = graph.compile(checkpointer=memory)\n",
        "\n",
        "workflow"
      ]
    },
    {
      "cell_type": "code",
      "source": [
        "config1 = {\"configurable\": {\"thread_id\": \"1\"}}\n",
        "\n",
        "response = workflow.invoke({\"messages\": \"Hi I am Sourin\"}, config=config1)\n",
        "\n",
        "response['messages'][-1].content"
      ],
      "metadata": {
        "colab": {
          "base_uri": "https://localhost:8080/",
          "height": 35
        },
        "id": "lHpiQSmCGhxB",
        "outputId": "28ce43a0-15c3-4c6e-daaa-c755a1cd7b3d"
      },
      "execution_count": 30,
      "outputs": [
        {
          "output_type": "execute_result",
          "data": {
            "text/plain": [
              "'Nice to meet you, Sourin. How can I assist you today?'"
            ],
            "application/vnd.google.colaboratory.intrinsic+json": {
              "type": "string"
            }
          },
          "metadata": {},
          "execution_count": 30
        }
      ]
    },
    {
      "cell_type": "code",
      "source": [
        "response = workflow.invoke({\"messages\": \"Hi do you remember my name?\"}, config=config1)\n",
        "\n",
        "response['messages'][-1].content"
      ],
      "metadata": {
        "colab": {
          "base_uri": "https://localhost:8080/",
          "height": 35
        },
        "id": "q-qVr5brG35v",
        "outputId": "185e1dda-9ea5-410e-e686-8cc88beaa8b7"
      },
      "execution_count": 31,
      "outputs": [
        {
          "output_type": "execute_result",
          "data": {
            "text/plain": [
              "'Your name is Sourin.'"
            ],
            "application/vnd.google.colaboratory.intrinsic+json": {
              "type": "string"
            }
          },
          "metadata": {},
          "execution_count": 31
        }
      ]
    },
    {
      "cell_type": "markdown",
      "source": [
        "---\n",
        "# **Streaming:**\n",
        "- .stream() & .astream()\n",
        "- values: all the messages Vs updates: the last message"
      ],
      "metadata": {
        "id": "wzpHoRoSH-IY"
      }
    },
    {
      "cell_type": "code",
      "source": [
        "from langgraph.checkpoint.memory import MemorySaver\n",
        "memory = MemorySaver()"
      ],
      "metadata": {
        "id": "KDqbKWM5HEKW"
      },
      "execution_count": 32,
      "outputs": []
    },
    {
      "cell_type": "code",
      "source": [
        "def superbot(state: State):\n",
        "    return {\"messages\": [model.invoke(state[\"messages\"])]}"
      ],
      "metadata": {
        "id": "L6YjfUAmIK69"
      },
      "execution_count": 33,
      "outputs": []
    },
    {
      "cell_type": "code",
      "source": [
        "graph = StateGraph(State)\n",
        "\n",
        "graph.add_node(\"Superbot\", superbot)\n",
        "\n",
        "graph.add_edge(START, \"Superbot\")\n",
        "graph.add_edge(\"Superbot\", END)\n",
        "\n",
        "workflow = graph.compile(checkpointer=memory)\n",
        "workflow"
      ],
      "metadata": {
        "colab": {
          "base_uri": "https://localhost:8080/",
          "height": 251
        },
        "id": "t0KlMJtaIiIl",
        "outputId": "549fedd5-0e5a-47cd-98c9-806049413a18"
      },
      "execution_count": 34,
      "outputs": [
        {
          "output_type": "execute_result",
          "data": {
            "text/plain": [
              "<langgraph.graph.state.CompiledStateGraph object at 0x7cca26d9f5d0>"
            ],
            "image/png": "[encoded data removed]"
          },
          "metadata": {},
          "execution_count": 34
        }
      ]
    },
    {
      "cell_type": "code",
      "source": [
        "# creating a thread:\n",
        "config = {\"configurable\": {\"thread_id\": \"2\"}}\n",
        "\n",
        "for chunk in workflow.stream({\"messages\": \"Hi I am Sourin2, what is the latest news about Neuralink\"}, config=config, stream_mode=\"updates\"):\n",
        "    print(chunk)"
      ],
      "metadata": {
        "colab": {
          "base_uri": "https://localhost:8080/"
        },
        "id": "GfQMoeQ_I0zt",
        "outputId": "1c5980f1-fb15-459f-d37c-baea94acf70e"
      },
      "execution_count": 35,
      "outputs": [
        {
          "output_type": "stream",
          "name": "stdout",
          "text": [
            "{'Superbot': {'messages': [AIMessage(content='Hello Sourin2, I\\'m happy to provide you with the latest news about Neuralink. \\n\\nNeuralink is a neurotechnology company founded by Elon Musk in 2016. The company\\'s primary goal is to integrate the human brain with computers, aiming to enhance cognitive abilities, treat medical conditions, and potentially achieve a symbiosis between humans and artificial intelligence.\\n\\nHere are some recent updates about Neuralink:\\n\\n1. **Human Trials**: Neuralink has been conducting human trials for its brain-machine interface (BMI) technology. In 2022, the company received FDA approval to begin human clinical trials for its N1 Sensor, which is a small implantable device that can read and write neural signals.\\n\\n2. **N1 Sensor**: The N1 Sensor is a key component of Neuralink\\'s technology. It\\'s a small, flexible implant that can be inserted into the brain to read and write neural signals. The device is designed to be minimally invasive and can be controlled remotely using a smartphone app.\\n\\n3. **Neuralink\\'s Robot**: Neuralink has developed a robotic system called the \"sewing machine\" that can implant the N1 Sensor into the brain with high precision. The robot uses a combination of computer vision and machine learning algorithms to guide the implantation process.\\n\\n4. **Elon Musk\\'s Vision**: Elon Musk has stated that his ultimate goal for Neuralink is to achieve a \"symbiosis\" between humans and artificial intelligence. He believes that by integrating the human brain with computers, we can enhance our cognitive abilities, treat medical conditions, and potentially achieve a new level of human-AI collaboration.\\n\\n5. **Recent Developments**: In 2022, Neuralink announced that it had successfully implanted its N1 Sensor in a human subject. The company also released a video showing the implantation process, which was performed by a team of surgeons using the robotic system.\\n\\nPlease note that the information provided is up to my cut-off knowledge date of December 2023. For the most recent updates, I recommend checking Neuralink\\'s official website or reputable news sources.', additional_kwargs={}, response_metadata={'token_usage': {'completion_tokens': 421, 'prompt_tokens': 50, 'total_tokens': 471, 'completion_time': 1.6866280059999998, 'prompt_time': 0.052819869, 'queue_time': 0.09159418700000002, 'total_time': 1.739447875}, 'model_name': 'llama-3.1-8b-instant', 'system_fingerprint': 'fp_c523237e5d', 'service_tier': 'on_demand', 'finish_reason': 'stop', 'logprobs': None}, id='run--49da7f6d-a114-4f9e-be95-37e9545c1142-0', usage_metadata={'input_tokens': 50, 'output_tokens': 421, 'total_tokens': 471})]}}\n"
          ]
        }
      ]
    },
    {
      "cell_type": "code",
      "source": [
        "for chunk in workflow.stream({\"messages\": \"Hi I am Sourin2, what is the weather in NYC?\"}, config=config, stream_mode=\"values\"):\n",
        "    print(chunk)"
      ],
      "metadata": {
        "colab": {
          "base_uri": "https://localhost:8080/"
        },
        "id": "tz0fKy4TJJWi",
        "outputId": "ad641d42-18b4-4a96-8062-bdebce21756d"
      },
      "execution_count": 36,
      "outputs": [
        {
          "output_type": "stream",
          "name": "stdout",
          "text": [
            "{'messages': [HumanMessage(content='Hi I am Sourin2, what is the latest news about Neuralink', additional_kwargs={}, response_metadata={}, id='842be467-1ad8-4b8a-ac24-d597fac873d0'), AIMessage(content='Hello Sourin2, I\\'m happy to provide you with the latest news about Neuralink. \\n\\nNeuralink is a neurotechnology company founded by Elon Musk in 2016. The company\\'s primary goal is to integrate the human brain with computers, aiming to enhance cognitive abilities, treat medical conditions, and potentially achieve a symbiosis between humans and artificial intelligence.\\n\\nHere are some recent updates about Neuralink:\\n\\n1. **Human Trials**: Neuralink has been conducting human trials for its brain-machine interface (BMI) technology. In 2022, the company received FDA approval to begin human clinical trials for its N1 Sensor, which is a small implantable device that can read and write neural signals.\\n\\n2. **N1 Sensor**: The N1 Sensor is a key component of Neuralink\\'s technology. It\\'s a small, flexible implant that can be inserted into the brain to read and write neural signals. The device is designed to be minimally invasive and can be controlled remotely using a smartphone app.\\n\\n3. **Neuralink\\'s Robot**: Neuralink has developed a robotic system called the \"sewing machine\" that can implant the N1 Sensor into the brain with high precision. The robot uses a combination of computer vision and machine learning algorithms to guide the implantation process.\\n\\n4. **Elon Musk\\'s Vision**: Elon Musk has stated that his ultimate goal for Neuralink is to achieve a \"symbiosis\" between humans and artificial intelligence. He believes that by integrating the human brain with computers, we can enhance our cognitive abilities, treat medical conditions, and potentially achieve a new level of human-AI collaboration.\\n\\n5. **Recent Developments**: In 2022, Neuralink announced that it had successfully implanted its N1 Sensor in a human subject. The company also released a video showing the implantation process, which was performed by a team of surgeons using the robotic system.\\n\\nPlease note that the information provided is up to my cut-off knowledge date of December 2023. For the most recent updates, I recommend checking Neuralink\\'s official website or reputable news sources.', additional_kwargs={}, response_metadata={'token_usage': {'completion_tokens': 421, 'prompt_tokens': 50, 'total_tokens': 471, 'completion_time': 1.6866280059999998, 'prompt_time': 0.052819869, 'queue_time': 0.09159418700000002, 'total_time': 1.739447875}, 'model_name': 'llama-3.1-8b-instant', 'system_fingerprint': 'fp_c523237e5d', 'service_tier': 'on_demand', 'finish_reason': 'stop', 'logprobs': None}, id='run--49da7f6d-a114-4f9e-be95-37e9545c1142-0', usage_metadata={'input_tokens': 50, 'output_tokens': 421, 'total_tokens': 471}), HumanMessage(content='Hi I am Sourin2, what is the weather in NYC?', additional_kwargs={}, response_metadata={}, id='9ac6adf7-4a22-442a-8e47-284a2c9ced94')], 'tools': []}\n",
            "{'messages': [HumanMessage(content='Hi I am Sourin2, what is the latest news about Neuralink', additional_kwargs={}, response_metadata={}, id='842be467-1ad8-4b8a-ac24-d597fac873d0'), AIMessage(content='Hello Sourin2, I\\'m happy to provide you with the latest news about Neuralink. \\n\\nNeuralink is a neurotechnology company founded by Elon Musk in 2016. The company\\'s primary goal is to integrate the human brain with computers, aiming to enhance cognitive abilities, treat medical conditions, and potentially achieve a symbiosis between humans and artificial intelligence.\\n\\nHere are some recent updates about Neuralink:\\n\\n1. **Human Trials**: Neuralink has been conducting human trials for its brain-machine interface (BMI) technology. In 2022, the company received FDA approval to begin human clinical trials for its N1 Sensor, which is a small implantable device that can read and write neural signals.\\n\\n2. **N1 Sensor**: The N1 Sensor is a key component of Neuralink\\'s technology. It\\'s a small, flexible implant that can be inserted into the brain to read and write neural signals. The device is designed to be minimally invasive and can be controlled remotely using a smartphone app.\\n\\n3. **Neuralink\\'s Robot**: Neuralink has developed a robotic system called the \"sewing machine\" that can implant the N1 Sensor into the brain with high precision. The robot uses a combination of computer vision and machine learning algorithms to guide the implantation process.\\n\\n4. **Elon Musk\\'s Vision**: Elon Musk has stated that his ultimate goal for Neuralink is to achieve a \"symbiosis\" between humans and artificial intelligence. He believes that by integrating the human brain with computers, we can enhance our cognitive abilities, treat medical conditions, and potentially achieve a new level of human-AI collaboration.\\n\\n5. **Recent Developments**: In 2022, Neuralink announced that it had successfully implanted its N1 Sensor in a human subject. The company also released a video showing the implantation process, which was performed by a team of surgeons using the robotic system.\\n\\nPlease note that the information provided is up to my cut-off knowledge date of December 2023. For the most recent updates, I recommend checking Neuralink\\'s official website or reputable news sources.', additional_kwargs={}, response_metadata={'token_usage': {'completion_tokens': 421, 'prompt_tokens': 50, 'total_tokens': 471, 'completion_time': 1.6866280059999998, 'prompt_time': 0.052819869, 'queue_time': 0.09159418700000002, 'total_time': 1.739447875}, 'model_name': 'llama-3.1-8b-instant', 'system_fingerprint': 'fp_c523237e5d', 'service_tier': 'on_demand', 'finish_reason': 'stop', 'logprobs': None}, id='run--49da7f6d-a114-4f9e-be95-37e9545c1142-0', usage_metadata={'input_tokens': 50, 'output_tokens': 421, 'total_tokens': 471}), HumanMessage(content='Hi I am Sourin2, what is the weather in NYC?', additional_kwargs={}, response_metadata={}, id='9ac6adf7-4a22-442a-8e47-284a2c9ced94'), AIMessage(content=\"Hello Sourin2, I'm happy to help you with the weather in NYC. However, I'm a large language model, I don't have real-time access to current weather conditions. My knowledge cutoff is December 2023, and I don't have the ability to browse the internet or access current weather data.\\n\\nBut I can suggest some ways for you to find out the current weather in NYC:\\n\\n1. **Check online weather websites**: You can visit websites like AccuWeather, Weather.com, or the National Weather Service (NWS) to get the current weather conditions in NYC.\\n2. **Use a weather app**: You can download a weather app on your smartphone, such as Dark Sky or Weather Underground, to get real-time weather updates for NYC.\\n3. **Check social media**: You can check social media platforms like Twitter or Facebook to see if any of your friends or local news sources are posting about the current weather in NYC.\\n4. **Tune into local news**: You can watch local news channels or listen to local radio stations to get the latest weather updates for NYC.\\n\\nIf you want to know the typical weather conditions in NYC during a specific time of year, I can provide you with some general information. For example:\\n\\n* **Summer (June to August)**: Hot and humid, with average highs around 84°F (29°C) and average lows around 67°F (19°C).\\n* **Fall (September to November)**: Mild, with average highs around 64°F (18°C) and average lows around 50°F (10°C).\\n* **Winter (December to February)**: Cold, with average highs around 43°F (6°C) and average lows around 28°F (-2°C).\\n* **Spring (March to May)**: Cool, with average highs around 58°F (14°C) and average lows around 45°F (7°C).\\n\\nPlease keep in mind that these are general temperature ranges, and actual weather conditions can vary from year to year.\", additional_kwargs={}, response_metadata={'token_usage': {'completion_tokens': 408, 'prompt_tokens': 494, 'total_tokens': 902, 'completion_time': 1.198038567, 'prompt_time': 1.231596554, 'queue_time': 0.09114442999999994, 'total_time': 2.429635121}, 'model_name': 'llama-3.1-8b-instant', 'system_fingerprint': 'fp_c523237e5d', 'service_tier': 'on_demand', 'finish_reason': 'stop', 'logprobs': None}, id='run--0732f0f2-5287-45d9-bfb5-54234a59081b-0', usage_metadata={'input_tokens': 494, 'output_tokens': 408, 'total_tokens': 902})], 'tools': []}\n"
          ]
        }
      ]
    },
    {
      "cell_type": "code",
      "source": [
        "# creating a thread:\n",
        "config = {\"configurable\": {\"thread_id\": \"4\"}}\n",
        "\n",
        "for chunk in workflow.stream({\"messages\": \"Hi I am Sourin2, I like tech\"}, config=config, stream_mode=\"updates\"):\n",
        "    print(chunk)"
      ],
      "metadata": {
        "colab": {
          "base_uri": "https://localhost:8080/"
        },
        "id": "Hzlb01FJigve",
        "outputId": "5c620310-8bf8-46e3-b4b0-3b6c302d3a05"
      },
      "execution_count": 37,
      "outputs": [
        {
          "output_type": "stream",
          "name": "stdout",
          "text": [
            "{'Superbot': {'messages': [AIMessage(content=\"Nice to meet you, Sourin2. I'm happy to chat with you about tech. What specific areas of tech interest you the most? Are you into AI, machine learning, cybersecurity, or perhaps the latest gadgets and innovations?\", additional_kwargs={}, response_metadata={'token_usage': {'completion_tokens': 48, 'prompt_tokens': 45, 'total_tokens': 93, 'completion_time': 1.1307104749999999, 'prompt_time': 0.00381795, 'queue_time': 0.090947683, 'total_time': 1.134528425}, 'model_name': 'llama-3.1-8b-instant', 'system_fingerprint': 'fp_c523237e5d', 'service_tier': 'on_demand', 'finish_reason': 'stop', 'logprobs': None}, id='run--2a5600f4-c22f-4940-abce-aed677c67121-0', usage_metadata={'input_tokens': 45, 'output_tokens': 48, 'total_tokens': 93})]}}\n"
          ]
        }
      ]
    },
    {
      "cell_type": "code",
      "source": [
        "for chunk in workflow.stream({\"messages\": \"I also like f1\"}, config=config, stream_mode=\"values\"):\n",
        "    print(chunk)"
      ],
      "metadata": {
        "colab": {
          "base_uri": "https://localhost:8080/"
        },
        "id": "RY_664iFrjpY",
        "outputId": "0fb0e66e-0b91-453e-8307-b4a05e7b07c7"
      },
      "execution_count": 38,
      "outputs": [
        {
          "output_type": "stream",
          "name": "stdout",
          "text": [
            "{'messages': [HumanMessage(content='Hi I am Sourin2, I like tech', additional_kwargs={}, response_metadata={}, id='738de975-180a-4681-82ff-3d9bb058df5b'), AIMessage(content=\"Nice to meet you, Sourin2. I'm happy to chat with you about tech. What specific areas of tech interest you the most? Are you into AI, machine learning, cybersecurity, or perhaps the latest gadgets and innovations?\", additional_kwargs={}, response_metadata={'token_usage': {'completion_tokens': 48, 'prompt_tokens': 45, 'total_tokens': 93, 'completion_time': 1.1307104749999999, 'prompt_time': 0.00381795, 'queue_time': 0.090947683, 'total_time': 1.134528425}, 'model_name': 'llama-3.1-8b-instant', 'system_fingerprint': 'fp_c523237e5d', 'service_tier': 'on_demand', 'finish_reason': 'stop', 'logprobs': None}, id='run--2a5600f4-c22f-4940-abce-aed677c67121-0', usage_metadata={'input_tokens': 45, 'output_tokens': 48, 'total_tokens': 93}), HumanMessage(content='I also like f1', additional_kwargs={}, response_metadata={}, id='1dc813eb-010c-43f4-ad53-3fac9ff785b0')], 'tools': []}\n",
            "{'messages': [HumanMessage(content='Hi I am Sourin2, I like tech', additional_kwargs={}, response_metadata={}, id='738de975-180a-4681-82ff-3d9bb058df5b'), AIMessage(content=\"Nice to meet you, Sourin2. I'm happy to chat with you about tech. What specific areas of tech interest you the most? Are you into AI, machine learning, cybersecurity, or perhaps the latest gadgets and innovations?\", additional_kwargs={}, response_metadata={'token_usage': {'completion_tokens': 48, 'prompt_tokens': 45, 'total_tokens': 93, 'completion_time': 1.1307104749999999, 'prompt_time': 0.00381795, 'queue_time': 0.090947683, 'total_time': 1.134528425}, 'model_name': 'llama-3.1-8b-instant', 'system_fingerprint': 'fp_c523237e5d', 'service_tier': 'on_demand', 'finish_reason': 'stop', 'logprobs': None}, id='run--2a5600f4-c22f-4940-abce-aed677c67121-0', usage_metadata={'input_tokens': 45, 'output_tokens': 48, 'total_tokens': 93}), HumanMessage(content='I also like f1', additional_kwargs={}, response_metadata={}, id='1dc813eb-010c-43f4-ad53-3fac9ff785b0'), AIMessage(content='F1 is an exciting sport. The combination of high-speed cars, cutting-edge technology, and skilled drivers makes it a thrilling spectacle. The F1 teams are constantly pushing the boundaries of innovation, with advancements in areas like aerodynamics, engine performance, and materials science.\\n\\nWhich F1 team is your favorite, and do you have a favorite driver? Have you been following the latest season, or are you more interested in the history of the sport?', additional_kwargs={}, response_metadata={'token_usage': {'completion_tokens': 91, 'prompt_tokens': 107, 'total_tokens': 198, 'completion_time': 0.145712394, 'prompt_time': 0.014529984, 'queue_time': 0.09478774100000001, 'total_time': 0.160242378}, 'model_name': 'llama-3.1-8b-instant', 'system_fingerprint': 'fp_c523237e5d', 'service_tier': 'on_demand', 'finish_reason': 'stop', 'logprobs': None}, id='run--cf038226-e668-47d9-84df-3b0644a9a47e-0', usage_metadata={'input_tokens': 107, 'output_tokens': 91, 'total_tokens': 198})], 'tools': []}\n"
          ]
        }
      ]
    },
    {
      "cell_type": "markdown",
      "source": [
        "### **astream() event:**"
      ],
      "metadata": {
        "id": "ormtiTgHr_-O"
      }
    },
    {
      "cell_type": "code",
      "source": [
        "# creating a thread:\n",
        "config = {\"configurable\": {\"thread_id\": \"5\"}}\n",
        "\n",
        "for chunk in workflow.stream({\"messages\": \"Hi I am Sourin2, I like tech\"}, config=config, stream_mode=\"updates\"):\n",
        "    print(chunk)"
      ],
      "metadata": {
        "colab": {
          "base_uri": "https://localhost:8080/"
        },
        "id": "KsFYkcCUrwR4",
        "outputId": "bd23aaf0-51b9-413b-f07b-3152e3d0cae7"
      },
      "execution_count": 39,
      "outputs": [
        {
          "output_type": "stream",
          "name": "stdout",
          "text": [
            "{'Superbot': {'messages': [AIMessage(content=\"Nice to meet you, Sourin2. I'm happy to chat with you about tech. What specific areas of tech interest you the most? Are you into AI, machine learning, cybersecurity, or perhaps the latest gadgets and innovations?\", additional_kwargs={}, response_metadata={'token_usage': {'completion_tokens': 48, 'prompt_tokens': 45, 'total_tokens': 93, 'completion_time': 0.084007233, 'prompt_time': 0.002300655, 'queue_time': 0.090739489, 'total_time': 0.086307888}, 'model_name': 'llama-3.1-8b-instant', 'system_fingerprint': 'fp_c523237e5d', 'service_tier': 'on_demand', 'finish_reason': 'stop', 'logprobs': None}, id='run--f4bd23da-fb17-4fa1-b8ac-f683a9190d07-0', usage_metadata={'input_tokens': 45, 'output_tokens': 48, 'total_tokens': 93})]}}\n"
          ]
        }
      ]
    },
    {
      "cell_type": "markdown",
      "source": [
        "---\n",
        "# **Human in the loop:**"
      ],
      "metadata": {
        "id": "5py7XWGjsVrd"
      }
    },
    {
      "cell_type": "code",
      "source": [
        "import os\n",
        "from typing import Annotated\n",
        "from typing import TypedDict\n",
        "from typing_extensions import TypedDict\n",
        "from langchain_tavily import TavilySearch\n",
        "from langchain.agents import tool\n",
        "\n",
        "from langgraph.checkpoint.memory import MemorySaver\n",
        "from langchain_groq import ChatGroq\n",
        "from langgraph.graph import StateGraph, START, END\n",
        "from langgraph.graph.message import add_messages\n",
        "from langgraph.prebuilt import ToolNode, tools_condition\n",
        "from langgraph.types import Command, interrupt #for HITL"
      ],
      "metadata": {
        "id": "lcCDOLg9r92W"
      },
      "execution_count": 51,
      "outputs": []
    },
    {
      "cell_type": "code",
      "source": [
        "class State(TypedDict):\n",
        "    messages: Annotated[list, add_messages]"
      ],
      "metadata": {
        "id": "BuVDqlv8JtYu"
      },
      "execution_count": 44,
      "outputs": []
    },
    {
      "cell_type": "code",
      "source": [
        "@tool\n",
        "def human_assistance(query: str) -> str:\n",
        "    \"\"\"Request assistance from a human\"\"\"\n",
        "    human_response = interrupt({'query': query})\n",
        "    return human_response[\"data\"]\n",
        "\n",
        "search_tool_instance = TavilySearch(max_results=2, tavily_api_key = TAVILY_API_KEY)\n",
        "\n",
        "tools = [search_tool_instance, human_assistance]\n",
        "llm_with_tools = model.bind_tools(tools)"
      ],
      "metadata": {
        "id": "wHsgINMSK73_"
      },
      "execution_count": 55,
      "outputs": []
    },
    {
      "cell_type": "code",
      "source": [
        "def chatbot(state: State):\n",
        "    message = llm_with_tools.invoke(state['messages'])\n",
        "\n",
        "    return {\"messages\": [message]}"
      ],
      "metadata": {
        "id": "eCg6PI3GLlJA"
      },
      "execution_count": 56,
      "outputs": []
    },
    {
      "cell_type": "code",
      "source": [
        "graph_builder = StateGraph(State)\n",
        "\n",
        "\n",
        "tool_node = ToolNode(tools=tools)\n",
        "\n",
        "graph_builder.add_node(\"chatbot\", chatbot)\n",
        "graph_builder.add_node(\"tools\", tool_node)\n",
        "\n",
        "graph_builder.add_conditional_edges(\n",
        "    \"chatbot\",\n",
        "    tools_condition\n",
        ")\n",
        "\n",
        "graph_builder.add_edge(\"tools\", \"chatbot\")\n",
        "graph_builder.add_edge(START, \"chatbot\")\n",
        "\n",
        "memory = MemorySaver()\n",
        "\n",
        "graph = graph_builder.compile(checkpointer=memory)\n",
        "\n",
        "graph"
      ],
      "metadata": {
        "colab": {
          "base_uri": "https://localhost:8080/",
          "height": 266
        },
        "id": "auQelH_mPnD_",
        "outputId": "950ed6ac-5154-4f0e-93e3-d7f34a91c67f"
      },
      "execution_count": 57,
      "outputs": [
        {
          "output_type": "execute_result",
          "data": {
            "text/plain": [
              "<langgraph.graph.state.CompiledStateGraph object at 0x7cca23083150>"
            ],
            "image/png": "[encoded data removed]"
          },
          "metadata": {},
          "execution_count": 57
        }
      ]
    },
    {
      "cell_type": "code",
      "source": [],
      "metadata": {
        "id": "JcRgpM7RR66N"
      },
      "execution_count": null,
      "outputs": []
    }
  ],
  "metadata": {
    "colab": {
      "provenance": [],
      "authorship_tag": "ABX9TyMHloup7bvJHAJmtgOlVBpV",
      "include_colab_link": true
    },
    "kernelspec": {
      "display_name": "Python 3",
      "name": "python3"
    },
    "language_info": {
      "name": "python"
    }
  },
  "nbformat": 4,
  "nbformat_minor": 0
}