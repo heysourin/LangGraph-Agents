{
  "nbformat": 4,
  "nbformat_minor": 0,
  "metadata": {
    "colab": {
      "provenance": [],
      "authorship_tag": "ABX9TyNnaBhmu+IRpNmmIlDcjaG4",
      "include_colab_link": true
    },
    "kernelspec": {
      "name": "python3",
      "display_name": "Python 3"
    },
    "language_info": {
      "name": "python"
    }
  },
  "cells": [
    {
      "cell_type": "markdown",
      "metadata": {
        "id": "view-in-github",
        "colab_type": "text"
      },
      "source": [
        "<a href=\"https://colab.research.google.com/github/heysourin/LangGraph-Agents/blob/main/basics/03_prompt_chaining.ipynb\" target=\"_parent\"><img src=\"https://colab.research.google.com/assets/colab-badge.svg\" alt=\"Open In Colab\"/></a>"
      ]
    },
    {
      "cell_type": "code",
      "execution_count": 1,
      "metadata": {
        "colab": {
          "base_uri": "https://localhost:8080/"
        },
        "id": "bk8sts27QQpt",
        "outputId": "17522f94-28de-4886-a56e-c1967ead82d0"
      },
      "outputs": [
        {
          "output_type": "stream",
          "name": "stdout",
          "text": [
            "\u001b[2K     \u001b[90m━━━━━━━━━━━━━━━━━━━━━━━━━━━━━━━━━━━━━━━━\u001b[0m \u001b[32m43.7/43.7 kB\u001b[0m \u001b[31m1.3 MB/s\u001b[0m eta \u001b[36m0:00:00\u001b[0m\n",
            "\u001b[2K   \u001b[90m━━━━━━━━━━━━━━━━━━━━━━━━━━━━━━━━━━━━━━━━\u001b[0m \u001b[32m143.9/143.9 kB\u001b[0m \u001b[31m1.8 MB/s\u001b[0m eta \u001b[36m0:00:00\u001b[0m\n",
            "\u001b[2K   \u001b[90m━━━━━━━━━━━━━━━━━━━━━━━━━━━━━━━━━━━━━━━━\u001b[0m \u001b[32m70.6/70.6 kB\u001b[0m \u001b[31m4.9 MB/s\u001b[0m eta \u001b[36m0:00:00\u001b[0m\n",
            "\u001b[2K   \u001b[90m━━━━━━━━━━━━━━━━━━━━━━━━━━━━━━━━━━━━━━━━\u001b[0m \u001b[32m131.1/131.1 kB\u001b[0m \u001b[31m5.4 MB/s\u001b[0m eta \u001b[36m0:00:00\u001b[0m\n",
            "\u001b[2K   \u001b[90m━━━━━━━━━━━━━━━━━━━━━━━━━━━━━━━━━━━━━━━━\u001b[0m \u001b[32m43.9/43.9 kB\u001b[0m \u001b[31m2.7 MB/s\u001b[0m eta \u001b[36m0:00:00\u001b[0m\n",
            "\u001b[2K   \u001b[90m━━━━━━━━━━━━━━━━━━━━━━━━━━━━━━━━━━━━━━━━\u001b[0m \u001b[32m50.3/50.3 kB\u001b[0m \u001b[31m3.4 MB/s\u001b[0m eta \u001b[36m0:00:00\u001b[0m\n",
            "\u001b[2K   \u001b[90m━━━━━━━━━━━━━━━━━━━━━━━━━━━━━━━━━━━━━━━━\u001b[0m \u001b[32m216.5/216.5 kB\u001b[0m \u001b[31m6.8 MB/s\u001b[0m eta \u001b[36m0:00:00\u001b[0m\n",
            "\u001b[?25h"
          ]
        }
      ],
      "source": [
        "!pip3 install -q langgraph langchain dotenv langchain_openai langchain-groq\n"
      ]
    },
    {
      "cell_type": "code",
      "source": [
        "from langgraph.graph import StateGraph, START, END\n",
        "from langchain_openai import ChatOpenAI\n",
        "from typing import TypedDict"
      ],
      "metadata": {
        "id": "MagZqPQ5VjoQ"
      },
      "execution_count": 3,
      "outputs": []
    },
    {
      "cell_type": "code",
      "source": [
        "from google.colab import userdata\n",
        "GROQ_API_KEY = userdata.get('GROQ_API_KEY')"
      ],
      "metadata": {
        "id": "1Rhcns-MVnqG"
      },
      "execution_count": 5,
      "outputs": []
    },
    {
      "cell_type": "code",
      "source": [
        "from langchain_groq import ChatGroq\n",
        "\n",
        "model = ChatGroq(\n",
        "    model=\"llama-3.1-8b-instant\",\n",
        "    temperature=0.0,\n",
        "    max_retries=2,\n",
        "    api_key = GROQ_API_KEY\n",
        "    # other params...\n",
        ")"
      ],
      "metadata": {
        "id": "WUX60Q70VvLE"
      },
      "execution_count": 6,
      "outputs": []
    },
    {
      "cell_type": "code",
      "source": [
        "# Create state\n",
        "class BlogState(TypedDict):\n",
        "    title: str\n",
        "    outline: str\n",
        "    content: str"
      ],
      "metadata": {
        "id": "a2bgByy-VyOL"
      },
      "execution_count": 7,
      "outputs": []
    },
    {
      "cell_type": "code",
      "source": [
        "def create_outline_of_the_blog(state: BlogState)-> BlogState:\n",
        "    # fetch title\n",
        "    title = state['title']\n",
        "\n",
        "    # llm to gen outline\n",
        "    prompt = f'Generate a detailed outline on the blog topic: {title}'\n",
        "    outline = model.invoke(prompt).content\n",
        "\n",
        "    # update the state\n",
        "    state['outline'] = outline\n",
        "\n",
        "    return state"
      ],
      "metadata": {
        "id": "MtUazCLVWjj-"
      },
      "execution_count": 8,
      "outputs": []
    },
    {
      "cell_type": "code",
      "source": [
        "def create_content_of_the_blog(state: BlogState)-> BlogState:\n",
        "    title = state['title']\n",
        "    outline = state['outline']\n",
        "\n",
        "    prompt = f\"Write a detailed blog on the topic: {title} using the outline: {outline}\"\n",
        "    content = model.invoke(prompt).content\n",
        "\n",
        "    state['content'] = content\n",
        "\n",
        "    return state"
      ],
      "metadata": {
        "id": "epD5UEqSYwDS"
      },
      "execution_count": 9,
      "outputs": []
    },
    {
      "cell_type": "code",
      "source": [
        "graph = StateGraph(BlogState)\n",
        "\n",
        "# adding graph nodes\n",
        "graph.add_node('create_outline_of_the_blog', create_outline_of_the_blog)\n",
        "graph.add_node('create_content_of_the_blog', create_content_of_the_blog)\n",
        "\n",
        "# adding edges\n",
        "graph.add_edge(START, \"create_outline_of_the_blog\")\n",
        "graph.add_edge(\"create_outline_of_the_blog\", \"create_content_of_the_blog\")\n",
        "graph.add_edge(\"create_content_of_the_blog\", END)\n",
        "\n",
        "# compile and print\n",
        "workflow = graph.compile()\n",
        "workflow"
      ],
      "metadata": {
        "colab": {
          "base_uri": "https://localhost:8080/",
          "height": 350
        },
        "id": "HmlBHblvWW9E",
        "outputId": "e100e553-620f-4ed1-93ba-e7e83e61feb6"
      },
      "execution_count": 12,
      "outputs": [
        {
          "output_type": "execute_result",
          "data": {
            "text/plain": [
              "<langgraph.graph.state.CompiledStateGraph object at 0x7b7948ed3b50>"
            ],
            "image/png": "[encoded data removed]"
          },
          "metadata": {},
          "execution_count": 12
        }
      ]
    },
    {
      "cell_type": "code",
      "source": [
        "initial_state = {'title': \"Explain Howard Roark from the book The Fountainhead\"}\n",
        "\n",
        "final_state = workflow.invoke(initial_state)\n",
        "\n",
        "final_state"
      ],
      "metadata": {
        "colab": {
          "base_uri": "https://localhost:8080/"
        },
        "id": "mFvxCh7GZdO-",
        "outputId": "b5661ead-af25-4be5-ed64-2318d8a3dacc"
      },
      "execution_count": 15,
      "outputs": [
        {
          "output_type": "execute_result",
          "data": {
            "text/plain": [
              "{'title': 'Explain Howard Roark from the book The Fountainhead',\n",
              " 'outline': \"**Title:** Unveiling the Enigmatic Howard Roark: A Character Analysis from Ayn Rand's The Fountainhead\\n\\n**I. Introduction**\\n\\n- Brief overview of Ayn Rand's novel The Fountainhead\\n- Importance of Howard Roark as the protagonist\\n- Thesis statement: Howard Roark is a complex and multifaceted character who embodies the principles of individualism, creativity, and integrity, making him a compelling and thought-provoking figure in The Fountainhead.\\n\\n**II. Background and Personality**\\n\\n- Early life and upbringing: Howard Roark's childhood and family dynamics\\n- Personality traits: independence, self-reliance, and nonconformity\\n- Values and principles: individualism, honesty, and integrity\\n\\n**III. Creative Genius and Architecture**\\n\\n- Roark's passion for architecture and his unique style\\n- His approach to design: innovative, uncompromising, and true to his vision\\n- The significance of his architectural creations: a reflection of his artistic expression and values\\n\\n**IV. Conflict and Confrontation**\\n\\n- Roark's struggles with the establishment and societal expectations\\n- His conflicts with Ellsworth Toohey, a powerful and influential critic\\n- The significance of the trial and Roark's defense of his work\\n\\n**V. Relationships and Interactions**\\n\\n- Roark's relationships with other characters: Dominique Francon, Peter Keating, and Gail Wynand\\n- His interactions with these characters: a reflection of his values and principles\\n- The impact of these relationships on Roark's personal growth and development\\n\\n**VI. Themes and Symbolism**\\n\\n- The theme of individualism and its significance in the novel\\n- The symbolism of Roark's architecture and its connection to his values and principles\\n- The contrast between Roark and Peter Keating: a representation of the tension between creativity and compromise\\n\\n**VII. Conclusion**\\n\\n- Recap of Roark's character and his significance in The Fountainhead\\n- Reflection on the relevance of Roark's values and principles in today's society\\n- Final thoughts on the enduring impact of Howard Roark as a literary figure.\\n\\n**VIII. Additional Resources**\\n\\n- List of recommended readings and resources for further exploration of The Fountainhead and its themes\\n- Online resources and discussions for those interested in Ayn Rand's philosophy and literary works.\",\n",
              " 'content': \"**Unveiling the Enigmatic Howard Roark: A Character Analysis from Ayn Rand's The Fountainhead**\\n\\nAyn Rand's novel, The Fountainhead, is a thought-provoking and philosophical exploration of individualism, creativity, and integrity. At the heart of this novel is the enigmatic and complex character of Howard Roark, a young and talented architect who embodies the principles of individualism, self-reliance, and nonconformity. This character analysis will delve into the background and personality of Howard Roark, his creative genius and architecture, conflicts and confrontations, relationships and interactions, themes and symbolism, and finally, conclude with a reflection on the enduring impact of this literary figure.\\n\\n**I. Introduction**\\n\\nPublished in 1943, The Fountainhead is a novel that explores the tension between individualism and conformity, creativity and compromise. The novel follows the story of Howard Roark, a young and ambitious architect who refuses to compromise his artistic vision and values in the face of societal expectations and pressures. Through Roark's journey, Ayn Rand presents a powerful argument for individualism, self-reliance, and integrity, making him a compelling and thought-provoking figure in the novel.\\n\\n**II. Background and Personality**\\n\\nHoward Roark's childhood and family dynamics play a significant role in shaping his personality and values. Born to a family of modest means, Roark's parents instilled in him a strong sense of self-reliance and independence. His father, a stonemason, taught Roark the value of hard work and the importance of following one's passion. Roark's mother, a kind and gentle soul, encouraged his creativity and imagination. These early influences shaped Roark's personality, making him a confident, self-assured, and nonconformist individual.\\n\\nRoark's personality is characterized by his independence, self-reliance, and nonconformity. He is a true individualist who refuses to compromise his artistic vision and values in the face of societal expectations and pressures. He is honest and integrity-driven, always standing up for what he believes in, even if it means going against the majority. Roark's values and principles are rooted in his passion for architecture and his desire to create something truly original and innovative.\\n\\n**III. Creative Genius and Architecture**\\n\\nRoark's passion for architecture is evident in his unique style and approach to design. He is a true innovator who refuses to follow the conventional norms and expectations of the architectural establishment. His buildings are a reflection of his artistic expression and values, showcasing his commitment to individualism and creativity. Roark's architecture is characterized by its simplicity, elegance, and functionality, making it a true masterpiece of modern design.\\n\\nRoark's approach to design is uncompromising and true to his vision. He is not interested in creating buildings that are merely functional or aesthetically pleasing, but rather, he seeks to create structures that are truly original and innovative. His buildings are a reflection of his values and principles, showcasing his commitment to individualism and creativity.\\n\\n**IV. Conflict and Confrontation**\\n\\nRoark's struggles with the establishment and societal expectations are a central theme in the novel. He faces opposition from the powerful and influential critic, Ellsworth Toohey, who seeks to undermine his artistic vision and values. Toohey represents the forces of conformity and compromise, seeking to suppress Roark's individualism and creativity.\\n\\nThe trial and Roark's defense of his work are a pivotal moment in the novel. Roark's defense is a powerful statement of his values and principles, showcasing his commitment to individualism and creativity. He argues that his buildings are a reflection of his artistic expression and values, and that they should be judged on their own merit, rather than being compared to the conventional norms and expectations of the architectural establishment.\\n\\n**V. Relationships and Interactions**\\n\\nRoark's relationships with other characters are a reflection of his values and principles. His relationship with Dominique Francon, a beautiful and intelligent woman, is a complex and multifaceted one. Dominique is a true individualist who shares Roark's values and principles, and their relationship is a powerful expression of their shared commitment to individualism and creativity.\\n\\nRoark's interactions with Peter Keating, a talented but compromised architect, are also significant. Keating represents the forces of conformity and compromise, seeking to suppress Roark's individualism and creativity. Their relationship is a representation of the tension between creativity and compromise, highlighting the importance of individualism and self-reliance.\\n\\n**VI. Themes and Symbolism**\\n\\nThe theme of individualism is a central theme in the novel, and Roark's character embodies this principle. His commitment to individualism and creativity is a powerful statement of his values and principles, showcasing his commitment to self-reliance and nonconformity.\\n\\nThe symbolism of Roark's architecture is also significant, representing his values and principles. His buildings are a reflection of his artistic expression and values, showcasing his commitment to individualism and creativity. The contrast between Roark and Peter Keating is also symbolic, representing the tension between creativity and compromise.\\n\\n**VII. Conclusion**\\n\\nHoward Roark is a complex and multifaceted character who embodies the principles of individualism, creativity, and integrity. His character is a powerful statement of the importance of self-reliance and nonconformity, highlighting the need for individuals to stand up for what they believe in, even if it means going against the majority.\\n\\nRoark's values and principles are relevant today, as individuals continue to face the challenges of conformity and compromise. His commitment to individualism and creativity is a powerful reminder of the importance of self-expression and artistic vision.\\n\\n**VIII. Additional Resources**\\n\\nFor those interested in further exploring The Fountainhead and its themes, the following resources are recommended:\\n\\n* Ayn Rand's other novels, such as Atlas Shrugged and We the Living\\n* The Fountainhead: A Graphic Novel, a visual adaptation of the novel\\n* The Ayn Rand Institute, a non-profit organization dedicated to promoting individualism and capitalism\\n* Online forums and discussions, such as Reddit's r/AynRand and r/Fountainhead, where readers can engage with others about the novel and its themes.\\n\\nIn conclusion, Howard Roark is a complex and multifaceted character who embodies the principles of individualism, creativity, and integrity. His character is a powerful statement of the importance of self-reliance and nonconformity, highlighting the need for individuals to stand up for what they believe in, even if it means going against the majority.\"}"
            ]
          },
          "metadata": {},
          "execution_count": 15
        }
      ]
    },
    {
      "cell_type": "code",
      "source": [
        "final_state['outline']"
      ],
      "metadata": {
        "colab": {
          "base_uri": "https://localhost:8080/",
          "height": 105
        },
        "id": "Gekn06VCaB5q",
        "outputId": "883ddd0f-5c07-418b-a47a-429ff7344d2a"
      },
      "execution_count": 16,
      "outputs": [
        {
          "output_type": "execute_result",
          "data": {
            "text/plain": [
              "\"**Title:** Unveiling the Enigmatic Howard Roark: A Character Analysis from Ayn Rand's The Fountainhead\\n\\n**I. Introduction**\\n\\n- Brief overview of Ayn Rand's novel The Fountainhead\\n- Importance of Howard Roark as the protagonist\\n- Thesis statement: Howard Roark is a complex and multifaceted character who embodies the principles of individualism, creativity, and integrity, making him a compelling and thought-provoking figure in The Fountainhead.\\n\\n**II. Background and Personality**\\n\\n- Early life and upbringing: Howard Roark's childhood and family dynamics\\n- Personality traits: independence, self-reliance, and nonconformity\\n- Values and principles: individualism, honesty, and integrity\\n\\n**III. Creative Genius and Architecture**\\n\\n- Roark's passion for architecture and his unique style\\n- His approach to design: innovative, uncompromising, and true to his vision\\n- The significance of his architectural creations: a reflection of his artistic expression and values\\n\\n**IV. Conflict and Confrontation**\\n\\n- Roark's struggles with the establishment and societal expectations\\n- His conflicts with Ellsworth Toohey, a powerful and influential critic\\n- The significance of the trial and Roark's defense of his work\\n\\n**V. Relationships and Interactions**\\n\\n- Roark's relationships with other characters: Dominique Francon, Peter Keating, and Gail Wynand\\n- His interactions with these characters: a reflection of his values and principles\\n- The impact of these relationships on Roark's personal growth and development\\n\\n**VI. Themes and Symbolism**\\n\\n- The theme of individualism and its significance in the novel\\n- The symbolism of Roark's architecture and its connection to his values and principles\\n- The contrast between Roark and Peter Keating: a representation of the tension between creativity and compromise\\n\\n**VII. Conclusion**\\n\\n- Recap of Roark's character and his significance in The Fountainhead\\n- Reflection on the relevance of Roark's values and principles in today's society\\n- Final thoughts on the enduring impact of Howard Roark as a literary figure.\\n\\n**VIII. Additional Resources**\\n\\n- List of recommended readings and resources for further exploration of The Fountainhead and its themes\\n- Online resources and discussions for those interested in Ayn Rand's philosophy and literary works.\""
            ],
            "application/vnd.google.colaboratory.intrinsic+json": {
              "type": "string"
            }
          },
          "metadata": {},
          "execution_count": 16
        }
      ]
    },
    {
      "cell_type": "code",
      "source": [
        "final_state['content']"
      ],
      "metadata": {
        "colab": {
          "base_uri": "https://localhost:8080/",
          "height": 105
        },
        "id": "05h2Tfh6aMXO",
        "outputId": "cd9d5ed1-bd72-4d97-f8ca-daab8649c620"
      },
      "execution_count": 17,
      "outputs": [
        {
          "output_type": "execute_result",
          "data": {
            "text/plain": [
              "\"**Unveiling the Enigmatic Howard Roark: A Character Analysis from Ayn Rand's The Fountainhead**\\n\\nAyn Rand's novel, The Fountainhead, is a thought-provoking and philosophical exploration of individualism, creativity, and integrity. At the heart of this novel is the enigmatic and complex character of Howard Roark, a young and talented architect who embodies the principles of individualism, self-reliance, and nonconformity. This character analysis will delve into the background and personality of Howard Roark, his creative genius and architecture, conflicts and confrontations, relationships and interactions, themes and symbolism, and finally, conclude with a reflection on the enduring impact of this literary figure.\\n\\n**I. Introduction**\\n\\nPublished in 1943, The Fountainhead is a novel that explores the tension between individualism and conformity, creativity and compromise. The novel follows the story of Howard Roark, a young and ambitious architect who refuses to compromise his artistic vision and values in the face of societal expectations and pressures. Through Roark's journey, Ayn Rand presents a powerful argument for individualism, self-reliance, and integrity, making him a compelling and thought-provoking figure in the novel.\\n\\n**II. Background and Personality**\\n\\nHoward Roark's childhood and family dynamics play a significant role in shaping his personality and values. Born to a family of modest means, Roark's parents instilled in him a strong sense of self-reliance and independence. His father, a stonemason, taught Roark the value of hard work and the importance of following one's passion. Roark's mother, a kind and gentle soul, encouraged his creativity and imagination. These early influences shaped Roark's personality, making him a confident, self-assured, and nonconformist individual.\\n\\nRoark's personality is characterized by his independence, self-reliance, and nonconformity. He is a true individualist who refuses to compromise his artistic vision and values in the face of societal expectations and pressures. He is honest and integrity-driven, always standing up for what he believes in, even if it means going against the majority. Roark's values and principles are rooted in his passion for architecture and his desire to create something truly original and innovative.\\n\\n**III. Creative Genius and Architecture**\\n\\nRoark's passion for architecture is evident in his unique style and approach to design. He is a true innovator who refuses to follow the conventional norms and expectations of the architectural establishment. His buildings are a reflection of his artistic expression and values, showcasing his commitment to individualism and creativity. Roark's architecture is characterized by its simplicity, elegance, and functionality, making it a true masterpiece of modern design.\\n\\nRoark's approach to design is uncompromising and true to his vision. He is not interested in creating buildings that are merely functional or aesthetically pleasing, but rather, he seeks to create structures that are truly original and innovative. His buildings are a reflection of his values and principles, showcasing his commitment to individualism and creativity.\\n\\n**IV. Conflict and Confrontation**\\n\\nRoark's struggles with the establishment and societal expectations are a central theme in the novel. He faces opposition from the powerful and influential critic, Ellsworth Toohey, who seeks to undermine his artistic vision and values. Toohey represents the forces of conformity and compromise, seeking to suppress Roark's individualism and creativity.\\n\\nThe trial and Roark's defense of his work are a pivotal moment in the novel. Roark's defense is a powerful statement of his values and principles, showcasing his commitment to individualism and creativity. He argues that his buildings are a reflection of his artistic expression and values, and that they should be judged on their own merit, rather than being compared to the conventional norms and expectations of the architectural establishment.\\n\\n**V. Relationships and Interactions**\\n\\nRoark's relationships with other characters are a reflection of his values and principles. His relationship with Dominique Francon, a beautiful and intelligent woman, is a complex and multifaceted one. Dominique is a true individualist who shares Roark's values and principles, and their relationship is a powerful expression of their shared commitment to individualism and creativity.\\n\\nRoark's interactions with Peter Keating, a talented but compromised architect, are also significant. Keating represents the forces of conformity and compromise, seeking to suppress Roark's individualism and creativity. Their relationship is a representation of the tension between creativity and compromise, highlighting the importance of individualism and self-reliance.\\n\\n**VI. Themes and Symbolism**\\n\\nThe theme of individualism is a central theme in the novel, and Roark's character embodies this principle. His commitment to individualism and creativity is a powerful statement of his values and principles, showcasing his commitment to self-reliance and nonconformity.\\n\\nThe symbolism of Roark's architecture is also significant, representing his values and principles. His buildings are a reflection of his artistic expression and values, showcasing his commitment to individualism and creativity. The contrast between Roark and Peter Keating is also symbolic, representing the tension between creativity and compromise.\\n\\n**VII. Conclusion**\\n\\nHoward Roark is a complex and multifaceted character who embodies the principles of individualism, creativity, and integrity. His character is a powerful statement of the importance of self-reliance and nonconformity, highlighting the need for individuals to stand up for what they believe in, even if it means going against the majority.\\n\\nRoark's values and principles are relevant today, as individuals continue to face the challenges of conformity and compromise. His commitment to individualism and creativity is a powerful reminder of the importance of self-expression and artistic vision.\\n\\n**VIII. Additional Resources**\\n\\nFor those interested in further exploring The Fountainhead and its themes, the following resources are recommended:\\n\\n* Ayn Rand's other novels, such as Atlas Shrugged and We the Living\\n* The Fountainhead: A Graphic Novel, a visual adaptation of the novel\\n* The Ayn Rand Institute, a non-profit organization dedicated to promoting individualism and capitalism\\n* Online forums and discussions, such as Reddit's r/AynRand and r/Fountainhead, where readers can engage with others about the novel and its themes.\\n\\nIn conclusion, Howard Roark is a complex and multifaceted character who embodies the principles of individualism, creativity, and integrity. His character is a powerful statement of the importance of self-reliance and nonconformity, highlighting the need for individuals to stand up for what they believe in, even if it means going against the majority.\""
            ],
            "application/vnd.google.colaboratory.intrinsic+json": {
              "type": "string"
            }
          },
          "metadata": {},
          "execution_count": 17
        }
      ]
    }
  ]
}