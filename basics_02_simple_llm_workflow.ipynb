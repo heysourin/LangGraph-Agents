{
  "nbformat": 4,
  "nbformat_minor": 0,
  "metadata": {
    "colab": {
      "provenance": [],
      "authorship_tag": "ABX9TyOjhAoDz3kTEAXV+7cAZ6Sz",
      "include_colab_link": true
    },
    "kernelspec": {
      "name": "python3",
      "display_name": "Python 3"
    },
    "language_info": {
      "name": "python"
    }
  },
  "cells": [
    {
      "cell_type": "markdown",
      "metadata": {
        "id": "view-in-github",
        "colab_type": "text"
      },
      "source": [
        "<a href=\"https://colab.research.google.com/github/heysourin/LangGraph-Agents/blob/main/basics_02_simple_llm_workflow.ipynb\" target=\"_parent\"><img src=\"https://colab.research.google.com/assets/colab-badge.svg\" alt=\"Open In Colab\"/></a>"
      ]
    },
    {
      "cell_type": "code",
      "execution_count": 9,
      "metadata": {
        "colab": {
          "base_uri": "https://localhost:8080/"
        },
        "id": "P-7n53H64FmN",
        "outputId": "8f5b2f58-4683-427a-b6d1-5f6b3dcf76be"
      },
      "outputs": [
        {
          "output_type": "stream",
          "name": "stdout",
          "text": [
            "\u001b[?25l   \u001b[90m━━━━━━━━━━━━━━━━━━━━━━━━━━━━━━━━━━━━━━━━\u001b[0m \u001b[32m0.0/131.1 kB\u001b[0m \u001b[31m?\u001b[0m eta \u001b[36m-:--:--\u001b[0m\r\u001b[2K   \u001b[90m━━━━━━━━━━━━━━━━━━━━━━━━━━━━━━━━━━━━━━━━\u001b[0m \u001b[32m131.1/131.1 kB\u001b[0m \u001b[31m10.8 MB/s\u001b[0m eta \u001b[36m0:00:00\u001b[0m\n",
            "\u001b[?25h"
          ]
        }
      ],
      "source": [
        "!pip3 install -q langgraph langchain dotenv langchain_openai langchain-groq"
      ]
    },
    {
      "cell_type": "code",
      "source": [
        "from langgraph.graph import StateGraph, START, END\n",
        "from langchain_openai import ChatOpenAI\n",
        "from typing import TypedDict\n",
        "from dotenv import load_dotenv"
      ],
      "metadata": {
        "id": "lL68BU7b4T8A"
      },
      "execution_count": 28,
      "outputs": []
    },
    {
      "cell_type": "code",
      "source": [
        "load_dotenv()"
      ],
      "metadata": {
        "colab": {
          "base_uri": "https://localhost:8080/"
        },
        "id": "skI42_bV4bEv",
        "outputId": "0d5068db-8eac-4007-cb62-a086a3660eba"
      },
      "execution_count": 7,
      "outputs": [
        {
          "output_type": "execute_result",
          "data": {
            "text/plain": [
              "False"
            ]
          },
          "metadata": {},
          "execution_count": 7
        }
      ]
    },
    {
      "cell_type": "code",
      "source": [
        "from google.colab import userdata\n",
        "GROQ_API_KEY = userdata.get('GROQ_API_KEY')"
      ],
      "metadata": {
        "id": "XW6IRp_r4miN"
      },
      "execution_count": 22,
      "outputs": []
    },
    {
      "cell_type": "code",
      "source": [
        "from langchain_groq import ChatGroq\n",
        "\n",
        "model = ChatGroq(\n",
        "    model=\"llama-3.1-8b-instant\",\n",
        "    temperature=0.0,\n",
        "    max_retries=2,\n",
        "    api_key = GROQ_API_KEY\n",
        "    # other params...\n",
        ")"
      ],
      "metadata": {
        "id": "VBriSjoZ4o0q"
      },
      "execution_count": 23,
      "outputs": []
    },
    {
      "cell_type": "code",
      "source": [
        "# Create state\n",
        "class LLMState(TypedDict):\n",
        "    question: str\n",
        "    answer: str"
      ],
      "metadata": {
        "id": "fnK6_wgrLm_d"
      },
      "execution_count": 25,
      "outputs": []
    },
    {
      "cell_type": "code",
      "source": [
        "def llm_qa(state: LLMState)-> LLMState:\n",
        "\n",
        "    # extract the question from state\n",
        "    question = state['question']\n",
        "\n",
        "    # form a prompt\n",
        "    prompt = f'Answer the following question in an angry devilish tone: {question}'\n",
        "\n",
        "    # ask the question to the LLM\n",
        "    answer = model.invoke(prompt).content\n",
        "\n",
        "    #update the answer\n",
        "    state['answer'] = answer\n",
        "\n",
        "    return state"
      ],
      "metadata": {
        "id": "yiJT6o46Msxj"
      },
      "execution_count": 27,
      "outputs": []
    },
    {
      "cell_type": "code",
      "source": [
        "# Create graph\n",
        "graph = StateGraph(LLMState)\n",
        "\n",
        "# add nodes\n",
        "graph.add_node('llm_qa', llm_qa)\n",
        "\n",
        "# add edges\n",
        "graph.add_edge(START, 'llm_qa')\n",
        "graph.add_edge('llm_qa', END)\n",
        "\n",
        "# compile\n",
        "workflow = graph.compile()\n",
        "workflow"
      ],
      "metadata": {
        "colab": {
          "base_uri": "https://localhost:8080/",
          "height": 251
        },
        "id": "2NQgR87SL7N7",
        "outputId": "a233a30b-67af-47f6-930a-f2062c9713e4"
      },
      "execution_count": 32,
      "outputs": [
        {
          "output_type": "execute_result",
          "data": {
            "text/plain": [
              "<langgraph.graph.state.CompiledStateGraph object at 0x7838b750c110>"
            ],
            "image/png": "[encoded data removed]"
          },
          "metadata": {},
          "execution_count": 32
        }
      ]
    },
    {
      "cell_type": "code",
      "source": [
        "# execute:\n",
        "initial_state = {'question': \"What is the size of the sun comparing with earth?\"}\n",
        "final_state = workflow.invoke(initial_state)\n",
        "# final_state\n",
        "final_state['answer']"
      ],
      "metadata": {
        "colab": {
          "base_uri": "https://localhost:8080/",
          "height": 105
        },
        "id": "TxYl7YKSMjLa",
        "outputId": "5aa9ec52-1f28-4ee0-d636-c9891205df77"
      },
      "execution_count": 35,
      "outputs": [
        {
          "output_type": "execute_result",
          "data": {
            "text/plain": [
              "'YOU DARE TO ASK ME, A BEING OF GREAT POWER AND WISDOM, ABOUT THE SIZE OF THAT PUNY STAR COMPARED TO YOUR PATHETIC EARTH? \\n\\nFINE. I SHALL GRACIOUSLY BESTOW UPON YOU THIS KNOWLEDGE. BUT KNOW THAT IT IS BUT A SMALL FAVOR FROM A BEING AS MAJESTIC AS MYSELF.\\n\\nTHE SUN, THAT GREAT BALL OF FLAME AND ENERGY, IS APPROXIMATELY 109 TIMES LARGER IN DIAMETER THAN YOUR EARTH. YES, YOU HEARD ME RIGHT. 109 TIMES LARGER. IT IS A GIANT, A MONSTROSITY OF A STAR THAT MAKES YOUR EARTH LOOK LIKE A PUNY, INSIGNIFICANT ROCK.\\n\\nAND AS FOR ITS MASS, IT IS A WHOPPING 330,000 TIMES MORE MASSIVE THAN YOUR EARTH. YES, YOU PATHETIC CREATURES, THE SUN IS A GIANT, A BEHEMOTH OF A STAR THAT MAKES YOUR EARTH LOOK LIKE A SPECK OF DUST IN THE COSMOS.\\n\\nNOW, DO NOT DARE TO ASK ME ANY MORE QUESTIONS. YOU HAVE BEEN GRACIOUSLY INFORMED. BUT REMEMBER, YOU ARE BUT A MORTAL, A PUNY CREATURE IN THE FACE OF MY GREAT POWER AND WISDOM.'"
            ],
            "application/vnd.google.colaboratory.intrinsic+json": {
              "type": "string"
            }
          },
          "metadata": {},
          "execution_count": 35
        }
      ]
    },
    {
      "cell_type": "code",
      "source": [],
      "metadata": {
        "id": "5lo5h7wGN6rN"
      },
      "execution_count": null,
      "outputs": []
    }
  ]
}